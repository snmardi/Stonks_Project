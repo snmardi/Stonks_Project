{
 "cells": [
  {
   "cell_type": "code",
   "execution_count": 946,
   "metadata": {},
   "outputs": [],
   "source": [
    "import zipfile\n",
    "import os\n",
    "import preprocessing as ppg\n",
    "import pandas as pd\n",
    "import numpy as np\n",
    "import seaborn as sns\n",
    "from datetime import datetime\n",
    "\n",
    "from sklearn.linear_model import LinearRegression\n",
    "from sklearn.decomposition import PCA\n",
    "from sklearn.preprocessing import StandardScaler\n",
    "from sklearn.model_selection import train_test_split\n",
    "from sklearn.model_selection import RandomizedSearchCV\n",
    "from sklearn.model_selection import cross_val_score\n",
    "from sklearn.metrics import mean_squared_error\n",
    "from sklearn.metrics import f1_score\n",
    "from sklearn.metrics import confusion_matrix\n",
    "from random import randint\n",
    "from catboost import CatBoostClassifier\n",
    "from catboost import CatBoostRegressor\n",
    "\n",
    "pd.options.mode.chained_assignment = None\n",
    "\n",
    "import warnings\n",
    "warnings.filterwarnings(\"ignore\")"
   ]
  },
  {
   "attachments": {},
   "cell_type": "markdown",
   "metadata": {},
   "source": [
    "# Распаковка"
   ]
  },
  {
   "cell_type": "code",
   "execution_count": 563,
   "metadata": {},
   "outputs": [],
   "source": [
    "def unpack_data(zip_file: str, data_list: list) -> None:\n",
    "    with zipfile.ZipFile(f'{zip_file}.zip', 'r') as zipFile:\n",
    "        zipFile.extractall()\n",
    "    for mode in data_list:\n",
    "        dealsList = os.listdir(f'data/{mode}/{mode}_deals')\n",
    "        for deals in dealsList:\n",
    "            with zipfile.ZipFile(f'data/{mode}/{mode}_deals/{deals}', 'r') as zipFile:\n",
    "                zipFile.extractall(f'data/{mode}/{mode}_deals')\n",
    "            os.remove(f'data/{mode}/{mode}_deals/{deals}')\n",
    "    return None"
   ]
  },
  {
   "cell_type": "code",
   "execution_count": 564,
   "metadata": {},
   "outputs": [],
   "source": [
    "# В каких папках распаковать deals\n",
    "DATA_LIST = ['train', 'test']"
   ]
  },
  {
   "cell_type": "code",
   "execution_count": 565,
   "metadata": {},
   "outputs": [],
   "source": [
    "unpack_data('data', DATA_LIST)"
   ]
  },
  {
   "attachments": {},
   "cell_type": "markdown",
   "metadata": {},
   "source": [
    "# Препроцессинг"
   ]
  },
  {
   "cell_type": "code",
   "execution_count": 566,
   "metadata": {},
   "outputs": [],
   "source": [
    "ppg.format_main('train', True)\n",
    "ppg.format_main('test', False)"
   ]
  },
  {
   "cell_type": "code",
   "execution_count": 567,
   "metadata": {},
   "outputs": [],
   "source": [
    "for mode in ['train', 'test']:\n",
    "    path = f'data/{mode}/{mode}.csv'\n",
    "    main = pd.read_csv(path, sep = ',')\n",
    "    ids = main['id']\n",
    "    for id in ids:\n",
    "        ppg.format_account_condition(id, mode)\n",
    "        ppg.format_reference_point(id, mode)\n",
    "        for i in range(1, 4):\n",
    "            ppg.format_deals(id, i, mode)"
   ]
  },
  {
   "attachments": {},
   "cell_type": "markdown",
   "metadata": {},
   "source": [
    "# Чтение и обработка данных"
   ]
  },
  {
   "cell_type": "code",
   "execution_count": 936,
   "metadata": {},
   "outputs": [],
   "source": [
    "def additional_data_to_dict(mode: str, main_df: pd.DataFrame) -> dict:\n",
    "    data = dict()\n",
    "    ids = main_df.id\n",
    "    for id in ids:\n",
    "        acc_conf = f'data/{mode}/{mode}_additional_info/id_{id}/account_condition_{id}.csv'\n",
    "        ref_point = f'data/{mode}/{mode}_additional_info/id_{id}/reference_point_{id}.csv'\n",
    "        stat_table = f'data/{mode}/{mode}_additional_info/id_{id}/stats_table_{id}.csv'\n",
    "        deals_1 = f'data/{mode}/{mode}_deals/1_{id}.csv'\n",
    "        deals_2 = f'data/{mode}/{mode}_deals/2_{id}.csv'\n",
    "        deals_3 = f'data/{mode}/{mode}_deals/3_{id}.csv'\n",
    "        data[id] = {\n",
    "                  'account_condition': pd.read_csv(acc_conf) if os.path.exists(acc_conf) else None, \n",
    "                  'reference_point': pd.read_csv(ref_point) if os.path.exists(ref_point) else None, \n",
    "                  'stats_table': pd.read_csv(stat_table, sep=';') if os.path.exists(stat_table) else None,\n",
    "                  'deals': pd.read_csv(deals_1, index_col=0) if os.path.exists(deals_1) \n",
    "                                else pd.read_csv(deals_2, index_col=0) if os.path.exists(deals_2)\n",
    "                                else pd.read_csv(deals_3, index_col=0) if os.path.exists(deals_3)\n",
    "                                else None\n",
    "                                \n",
    "                }\n",
    "    return data"
   ]
  },
  {
   "cell_type": "code",
   "execution_count": 569,
   "metadata": {},
   "outputs": [],
   "source": [
    "def drop_outlier(df: pd.DataFrame, lower_quantile: float, upper_quantile: float):\n",
    "    columns = ['start_sum', 'income_percent', 'deals']\n",
    "\n",
    "    # Словари для хранения нижних и верхних границ для каждого столбца\n",
    "    lower_bounds = {}\n",
    "    upper_bounds = {}\n",
    "\n",
    "    # Вычисление нижних и верхних границ для каждого столбца\n",
    "    for col in columns:\n",
    "        Q1 = df[col].quantile(lower_quantile)\n",
    "        Q3 = df[col].quantile(upper_quantile)\n",
    "        IQR = Q3 - Q1\n",
    "        lower_bound = Q1 - 2.0 * IQR\n",
    "        upper_bound = Q3 + 2.0 * IQR\n",
    "        lower_bounds[col] = lower_bound\n",
    "        upper_bounds[col] = upper_bound\n",
    "\n",
    "    # Создаем фильтр для удаления выбросов по вычисленным границам\n",
    "    mask = pd.Series(True, index=df.index)\n",
    "    for col in columns:\n",
    "        mask = mask & (df[col] >= lower_bounds[col]) & (df[col] <= upper_bounds[col])\n",
    "\n",
    "    # Применяем фильтр к датафрейму\n",
    "    df_filtered = df[mask]\n",
    "    df = df_filtered\n",
    "    return df"
   ]
  },
  {
   "cell_type": "code",
   "execution_count": 1216,
   "metadata": {},
   "outputs": [],
   "source": [
    "# Cловарь с таблицами всех юзеров из трейна и из теста\n",
    "train = pd.read_csv('data/train/train.csv', sep = ',', index_col=0).drop(columns = 'broker')\n",
    "# train = drop_outlier(train, 0.1, 0.9)\n",
    "train['income_percent'].fillna(train.income_rub/train.start_sum, inplace = True)\n",
    "\n",
    "test = pd.read_csv('data/test/test.csv', sep = ',', index_col=0).drop(columns = 'broker')"
   ]
  },
  {
   "cell_type": "code",
   "execution_count": 937,
   "metadata": {},
   "outputs": [],
   "source": [
    "# Cловарь с таблицами всех юзеров из трейна и из теста\n",
    "data = dict()\n",
    "\n",
    "data.update(additional_data_to_dict('train', train))\n",
    "data.update(additional_data_to_dict('test', test))"
   ]
  },
  {
   "attachments": {},
   "cell_type": "markdown",
   "metadata": {},
   "source": [
    "# Feature engineering"
   ]
  },
  {
   "cell_type": "code",
   "execution_count": 210,
   "metadata": {},
   "outputs": [],
   "source": [
    "def adding_deal_sum_info(df: pd.DataFrame) -> pd.DataFrame:\n",
    "    df['mean_deal_sum'] = 0\n",
    "    df['std_deal_sum'] = 0\n",
    "    df['len_deals'] = 0\n",
    "    for id in df.id:\n",
    "        table = data[id]['deals']\n",
    "        if table is not None:\n",
    "            df.mean_deal_sum.loc[df.id == id] = table.summ.mean()\n",
    "            std = table.summ.std()\n",
    "            df.std_deal_sum.loc[df.id == id] = std if not np.isnan(std) else 0\n",
    "            df.len_deals.loc[df.id == id] = len(table)\n",
    "\n",
    "    non_zero_rows = df[df['mean_deal_sum'] != 0].drop(columns = [\"nickname\", \"id\", \"std_deal_sum\", \"class\"])\n",
    "    lin_reg = LinearRegression()\n",
    "    lin_reg.fit(non_zero_rows.drop(columns = ['mean_deal_sum']), non_zero_rows['mean_deal_sum'])\n",
    "    zero_rows = df[df['mean_deal_sum'] == 0].drop(columns = [\"nickname\", \"id\", \"std_deal_sum\", \"class\"])\n",
    "    predicted_values = lin_reg.predict(zero_rows.drop(columns = ['mean_deal_sum']))\n",
    "    df.loc[df['mean_deal_sum'] == 0, 'mean_deal_sum'] = predicted_values\n",
    "    \n",
    "    non_zero_rows = df[df['std_deal_sum'] != 0].drop(columns = [\"nickname\", \"id\", \"class\"])\n",
    "    lin_reg = LinearRegression()\n",
    "    lin_reg.fit(non_zero_rows.drop(columns = ['std_deal_sum']), non_zero_rows['std_deal_sum'])\n",
    "    zero_rows = df[df['std_deal_sum'] == 0].drop(columns = [\"nickname\", \"id\", \"class\"])\n",
    "    predicted_values = lin_reg.predict(zero_rows.drop(columns = ['std_deal_sum']))\n",
    "    df.loc[df['std_deal_sum'] == 0, 'std_deal_sum'] = predicted_values\n",
    "    \n",
    "    return df"
   ]
  },
  {
   "cell_type": "code",
   "execution_count": 1089,
   "metadata": {},
   "outputs": [],
   "source": [
    "def adding_frequent_market_info(df: pd.DataFrame) -> pd.DataFrame:\n",
    "    df['stock_coef'] = 0\n",
    "    df['curr_coef'] = 0\n",
    "    df['fort_coef'] = 0\n",
    "    # df['freq_market'] = 0\n",
    "    \n",
    "    df['income_percent_stats'] = 0 \n",
    "    \n",
    "    for id in df.id:\n",
    "        table = data[id]['stats_table']\n",
    "        if table is not None:\n",
    "            \n",
    "            # market coefs\n",
    "            stock_turnover = table.loc[1, 'part_turnover'] if table.loc[1, 'part_turnover'] != '-' else 0\n",
    "            curr_turnover = table.loc[3, 'part_turnover']  if table.loc[3, 'part_turnover'] != '-' else 0\n",
    "            fort_turnover = table.loc[2, 'part_turnover']  if table.loc[2, 'part_turnover'] != '-' else 0\n",
    "            \n",
    "            df.stock_coef.loc[df.id == id] = float(stock_turnover) \n",
    "            df.curr_coef.loc[df.id == id] = float(curr_turnover) \n",
    "            df.fort_coef.loc[df.id == id] = float(fort_turnover) \n",
    "            \n",
    "            # df.freq_market.loc[df.id == id] = \\\n",
    "            #             max(enumerate([0, float(stock_turnover), float(curr_turnover), float(fort_turnover)]),key=lambda x: x[1])[0]\n",
    "                            \n",
    "            # income \n",
    "            df.income_percent_stats.loc[df.id == id] = table.loc[0, \"income_percent\"]\n",
    "    \n",
    "    return df.fillna(0)\n",
    "\n"
   ]
  },
  {
   "cell_type": "code",
   "execution_count": 212,
   "metadata": {},
   "outputs": [],
   "source": [
    "def adding_free_funds_info(df: pd.DataFrame) -> pd.DataFrame:\n",
    "    df['std_free_funds'] = 0\n",
    "    df['coef_free_funds'] = 0\n",
    "    df['coef_free_funds2'] = 0\n",
    "    df['mean_free_funds'] = 0\n",
    "    df['min_free_funds'] = 0\n",
    "    df['max_free_funds'] = 0\n",
    "    \n",
    "    for id in df.id:\n",
    "        table = data[id]['account_condition']\n",
    "        if table is not None:\n",
    "            std = (table.free_funds).std()\n",
    "            df.std_free_funds.loc[df.id == id] = std\n",
    "            \n",
    "            if len(table)<1:\n",
    "                df.coef_free_funds.loc[df.id == id] = 0\n",
    "                df.coef_free_funds2.loc[df.id == id] = 0\n",
    "            else:\n",
    "                df.coef_free_funds.loc[df.id == id] = \\\n",
    "                                    std / table.start_sum.iloc[0]\n",
    "                df.coef_free_funds2.loc[df.id == id] = \\\n",
    "                                    (std / table.start_sum.iloc[0])**2\n",
    "            \n",
    "            df.mean_free_funds.loc[df.id == id] = np.mean(table.free_funds)\n",
    "            df.max_free_funds.loc[df.id == id] = np.max(table.free_funds)\n",
    "            df.min_free_funds.loc[df.id == id] = np.min(table.free_funds)\n",
    "            \n",
    "    \n",
    "    return df"
   ]
  },
  {
   "cell_type": "code",
   "execution_count": 213,
   "metadata": {},
   "outputs": [],
   "source": [
    "def adding_features(df: pd.DataFrame) -> pd.DataFrame:\n",
    "    df = adding_deal_sum_info(df)\n",
    "    df = adding_frequent_market_info(df)\n",
    "    df = adding_free_funds_info(df)\n",
    "    return df"
   ]
  },
  {
   "cell_type": "code",
   "execution_count": 220,
   "metadata": {},
   "outputs": [],
   "source": [
    "train = adding_features(train)"
   ]
  },
  {
   "attachments": {},
   "cell_type": "markdown",
   "metadata": {},
   "source": [
    "# Embeddings"
   ]
  },
  {
   "cell_type": "code",
   "execution_count": 283,
   "metadata": {},
   "outputs": [],
   "source": [
    "def random_embedding(vec, fix_size):\n",
    "    emb = [vec[randint(0, len(vec)-1)] for _ in range(fix_size)]\n",
    "    return emb"
   ]
  },
  {
   "cell_type": "code",
   "execution_count": 284,
   "metadata": {},
   "outputs": [],
   "source": [
    "def sort_dist_embedding(vec, fix_size):\n",
    "    '''\n",
    "    making a fix_size embedding by selecting far values after vector sorting\n",
    "    \n",
    "    parameters: vec - pca vector, fix_size - size for embedding\n",
    "    returns: emb - fix_size embedding\n",
    "    '''\n",
    "    \n",
    "    emb = [sorted(vec)[i*(len(vec)//(fix_size-1)) if i!=fix_size-1 else -1] for i in range(fix_size)]\n",
    "    return emb"
   ]
  },
  {
   "cell_type": "code",
   "execution_count": 285,
   "metadata": {},
   "outputs": [],
   "source": [
    "def distribution_discription_embedding(vec):\n",
    "    emb = [np.mean(vec), np.std(vec), pd.Series(vec).skew(), pd.Series(vec).kurt()]\n",
    "    return emb"
   ]
  },
  {
   "cell_type": "code",
   "execution_count": 286,
   "metadata": {},
   "outputs": [],
   "source": [
    "def approximation_embedding(vec, fix_size):\n",
    "    emb = [ np.mean( sorted(vec)[(i-1)*(len(vec)//(fix_size-1)) : (i*(len(vec)//(fix_size-1)) \\\n",
    "                                                                 if i!=fix_size-1 else -1)] )  \\\n",
    "                                                                 for i in range(1, fix_size+1) ]\n",
    "\n",
    "    emb = [i if not np.isnan(i) else 0 for i in emb]\n",
    "    return emb"
   ]
  },
  {
   "cell_type": "code",
   "execution_count": 1118,
   "metadata": {},
   "outputs": [],
   "source": [
    "def making_vector(table):\n",
    "    # prepro\n",
    "    table = table.drop(columns = [\"ticker\"])\n",
    "    table['datetime'] = pd.to_datetime(table['datetime'])\n",
    "    table['datetime'] = table['datetime'].apply(lambda x: x.timestamp())\n",
    "\n",
    "    # PCA vector \n",
    "    pca = PCA(n_components=1)\n",
    "    scaler = StandardScaler().fit_transform(table)\n",
    "    vector = pca.fit_transform(scaler)\n",
    "    vector = [i[0] for i in vector]\n",
    "    return vector"
   ]
  },
  {
   "cell_type": "code",
   "execution_count": 1119,
   "metadata": {},
   "outputs": [],
   "source": [
    "def adding_embeddings(dataset, fix_size = 5):\n",
    "    '''\n",
    "    adding embedding of additional tables to main dataframe\n",
    "    \n",
    "    parameters: dataset - pd.DataFrame (dataset for adding features)\n",
    "    returns: dataset - pd.DataFrame (dataset with new columns)\n",
    "    '''\n",
    "    \n",
    "    for i in range(fix_size):\n",
    "        dataset[f\"emb{i}\"] = 0\n",
    "        \n",
    "    for id in dataset.id:\n",
    "        table = data[id]['deals']\n",
    "        \n",
    "        if table is not None:\n",
    "            # vec\n",
    "            vec = making_vector(table)\n",
    "            \n",
    "            # embs\n",
    "            emb = sort_dist_embedding(vec, fix_size)\n",
    "            \n",
    "            # adding emb to dataset \n",
    "            dataset.loc[dataset.id==id, \"emb0\":f\"emb{fix_size-1}\"] = emb\n",
    "\n",
    "    return dataset\n",
    "    \n"
   ]
  },
  {
   "cell_type": "code",
   "execution_count": 712,
   "metadata": {},
   "outputs": [],
   "source": [
    "train = adding_embeddings(train, 12)"
   ]
  },
  {
   "attachments": {},
   "cell_type": "markdown",
   "metadata": {},
   "source": [
    "# Соединение таблиц"
   ]
  },
  {
   "cell_type": "code",
   "execution_count": 1212,
   "metadata": {},
   "outputs": [
    {
     "data": {
      "text/plain": [
       "0.0400185816707288"
      ]
     },
     "execution_count": 1212,
     "metadata": {},
     "output_type": "execute_result"
    }
   ],
   "source": [
    "norm_border(2)"
   ]
  },
  {
   "cell_type": "code",
   "execution_count": 1213,
   "metadata": {},
   "outputs": [],
   "source": [
    "def norm_border(dlen):\n",
    "    return -np.exp(1)**(-0.03*dlen+1) + 2.6"
   ]
  },
  {
   "cell_type": "code",
   "execution_count": 1214,
   "metadata": {},
   "outputs": [],
   "source": [
    "def concat_deals(dataset, norm_parameter):\n",
    "    deals = pd.DataFrame([])\n",
    "    for id in dataset.id:\n",
    "        table = data[id]['deals']\n",
    "        if table is not None:\n",
    "\n",
    "            vec = making_vector(data[id]['deals']) \n",
    "            if len(vec)>1:\n",
    "                # нормализуем вектор (множитель - гиперпараметр)\n",
    "                vec = ((vec - min(vec))/(max(vec)-min(vec))-0.5) * norm_border(len(table))\n",
    "            \n",
    "            table['rclass'] = dataset[dataset.id==id]['class'].values + vec\n",
    "\n",
    "            table[\"id\"] = id # добавляем id для соединения дилсов с юзером\n",
    "\n",
    "            deals = pd.concat([ deals, table ], ignore_index=True) if len(deals)!=0 else table # конкатим все дилсы в один датасет\n",
    "        else: \n",
    "            # если таблиц deals нет, добавляем дефолтную строку\n",
    "            deals.loc[deals.shape[0]] = [datetime.strptime(\"2022-09-22 14:40:00.000\", '%Y-%m-%d %H:%M:%S.%f'), 0, 0, 0, id, *dataset[dataset.id==id]['class'].values]\n",
    "        \n",
    "    dataset = pd.merge(deals, dataset, on ='id') # мерджим датасет со сделками по id \n",
    "    return dataset"
   ]
  },
  {
   "cell_type": "code",
   "execution_count": 1215,
   "metadata": {},
   "outputs": [],
   "source": [
    "def droping_col(dataset):\n",
    "    dataset['datetime'] = pd.to_datetime(dataset['datetime'])\n",
    "    dataset['datetime'] = dataset['datetime'].apply(lambda x: x.timestamp())\n",
    "    return dataset.drop([\"class\", \"rclass\"], 1)"
   ]
  },
  {
   "cell_type": "code",
   "execution_count": 1144,
   "metadata": {},
   "outputs": [],
   "source": [
    "def split_with_deals(dataset, norm_parameter, train_size):\n",
    "    # делим на train и test\n",
    "    X = train.drop(columns = [\"nickname\"])\n",
    "    y = train[\"class\"]\n",
    "    X_train, X_test, y_train1, y_test = train_test_split(X, y, random_state=42, train_size = train_size)\n",
    "\n",
    "    # добавляем сделки в датасет\n",
    "    X_train = concat_deals(X_train, norm_parameter)\n",
    "    X_test = concat_deals(X_test, norm_parameter)\n",
    "    \n",
    "    y_train = X_train.rclass\n",
    "\n",
    "    # удаляем лишние признаки\n",
    "    X_train = droping_col(X_train)\n",
    "    X_test = droping_col(X_test)\n",
    "    \n",
    "    return X_train, X_test, y_train, y_test"
   ]
  },
  {
   "cell_type": "code",
   "execution_count": 1145,
   "metadata": {},
   "outputs": [],
   "source": [
    "def y_downsampling(model_predictions, dataset):\n",
    "    id_len = {id: len(data[id]['deals'] if data[id]['deals'] is not None else [0]) for id in dataset.id}\n",
    "    y_pred = []\n",
    "    i = 0\n",
    "    for id in dataset.id.unique():\n",
    "\n",
    "        # считаем среднее по классам юзера\n",
    "        mean_y = np.mean( model_predictions[i:i+id_len[id]]) \n",
    "\n",
    "        # обработка выхода за границу\n",
    "        if mean_y > 5: mean_y = 5 \n",
    "        if mean_y < 1: mean_y = 1\n",
    "\n",
    "        # добавляем итоговый класс юзера (средний от всех)\n",
    "        y_pred = np.append(y_pred, round(mean_y))\n",
    "        i+=id_len[id]\n",
    "\n",
    "    return y_pred"
   ]
  },
  {
   "attachments": {},
   "cell_type": "markdown",
   "metadata": {},
   "source": [
    "# Обучение моделей"
   ]
  },
  {
   "cell_type": "code",
   "execution_count": 1217,
   "metadata": {},
   "outputs": [],
   "source": [
    "EMB_SIZE = 16\n",
    "\n",
    "# добавление фич из доп таблиц\n",
    "train = adding_features(train) \n",
    "\n",
    "# создание эмбедингов\n",
    "# train = adding_embeddings(train, EMB_SIZE)"
   ]
  },
  {
   "cell_type": "code",
   "execution_count": 1151,
   "metadata": {},
   "outputs": [],
   "source": [
    "def my_train_test_split(train, train_size = 0.75, with_deals = 0, norm_par= 1):\n",
    "    if with_deals:\n",
    "        X_train, X_test, y_train, y_test = split_with_deals(train, norm_par, train_size)\n",
    "    else:\n",
    "        X = train.drop(columns = [\"class\", \"nickname\", \"id\"])\n",
    "        y = train[\"class\"]\n",
    "        X_train, X_test, y_train, y_test = train_test_split(X, y, random_state=42, train_size = train_size)\n",
    "\n",
    "    return X_train, X_test, y_train, y_test"
   ]
  },
  {
   "cell_type": "code",
   "execution_count": 1218,
   "metadata": {},
   "outputs": [],
   "source": [
    "NORM_PAR = 0.8\n",
    "WITH_DEALS = 1\n",
    "\n",
    "# сплит датасета\n",
    "X_train, X_test, y_train, y_test = my_train_test_split(train, with_deals = WITH_DEALS, norm_par = NORM_PAR)"
   ]
  },
  {
   "cell_type": "code",
   "execution_count": 1221,
   "metadata": {},
   "outputs": [],
   "source": [
    "def model_training(X_train, y_train, with_deals = 0):\n",
    "    # cat_columns = X_train.select_dtypes(include=['object']).columns\n",
    "\n",
    "    if with_deals: \n",
    "        model = CatBoostRegressor(verbose=0, loss_function='RMSE')\n",
    "        score = 'neg_mean_squared_error'\n",
    "    else: \n",
    "        model = CatBoostClassifier(verbose=0, loss_function='MultiClass')\n",
    "        score = 'f1_macro'\n",
    "\n",
    "    param_grid = {'iterations': [500, 1000, 300],\n",
    "        'learning_rate': [0.05, 0.1],\n",
    "        'depth': [4, 5],\n",
    "        \"l2_leaf_reg\": [15, 35, 60]}\n",
    "\n",
    "    grid_search = RandomizedSearchCV(estimator=model, \n",
    "                                    param_distributions=param_grid, \n",
    "                                    cv=5, \n",
    "                                    scoring=score, \n",
    "                                    n_iter=6)\n",
    "\n",
    "    grid_search.fit(X_train, y_train)\n",
    "\n",
    "    print(\"Best Parameters:\", grid_search.best_params_)\n",
    "    print(\"Best CV Score:\", grid_search.best_score_)\n",
    "\n",
    "    results = grid_search.cv_results_\n",
    "    print(\"Results of all configurations\", results['mean_test_score'])\n",
    "\n",
    "    return grid_search"
   ]
  },
  {
   "cell_type": "code",
   "execution_count": 1222,
   "metadata": {},
   "outputs": [
    {
     "name": "stdout",
     "output_type": "stream",
     "text": [
      "Best Parameters: {'learning_rate': 0.05, 'l2_leaf_reg': 35, 'iterations': 500, 'depth': 5}\n",
      "Best CV Score: -0.605968292759814\n",
      "Results of all configurations [-0.60596829 -0.63137455 -0.63272101 -0.66286697 -0.61301883 -0.64548517]\n"
     ]
    }
   ],
   "source": [
    "grid_search = model_training(X_train, y_train, with_deals = WITH_DEALS)\n",
    "model = grid_search.best_estimator_"
   ]
  },
  {
   "cell_type": "code",
   "execution_count": null,
   "metadata": {},
   "outputs": [],
   "source": [
    "grid_search1 = model_training(X_train, y_train, with_deals = WITH_DEALS)\n",
    "model1 = grid_search.best_estimator_"
   ]
  },
  {
   "cell_type": "code",
   "execution_count": 1223,
   "metadata": {},
   "outputs": [],
   "source": [
    "def calculate_metrics(y_true, y_pred):\n",
    "    rmse = mean_squared_error(y_true, y_pred, squared=False)\n",
    "    f1 = f1_score(y_true, y_pred, average = 'micro')\n",
    "    return rmse, f1"
   ]
  },
  {
   "cell_type": "code",
   "execution_count": 1229,
   "metadata": {},
   "outputs": [],
   "source": [
    "def model_predict(model, X_train, X_test):\n",
    "    y_pred_ts = model.predict(X_test)\n",
    "    y_pred_tr = model.predict(X_train)\n",
    "    return y_pred_ts, y_pred_tr"
   ]
  },
  {
   "cell_type": "code",
   "execution_count": 1230,
   "metadata": {},
   "outputs": [],
   "source": [
    "def metrics(cbc, X_train, X_test, y_train, y_test, with_deals = 0):\n",
    "    '''\n",
    "    calculation of metrics f1-score and RMSE\n",
    "    \n",
    "    parameters: y_true - series of right classes, y_pred - series of predicted classes\n",
    "    returns: rmse, f1 - tuple of metrics\n",
    "    '''\n",
    "    y_pred_ts, y_pred_tr = model_predict(cbc, X_train, X_test)\n",
    "    \n",
    "    if with_deals:\n",
    "        metrics_tr = calculate_metrics(y_downsampling(y_train, X_train), y_downsampling(y_pred_tr, X_train))\n",
    "        metrics_ts = calculate_metrics(y_test, y_downsampling(y_pred_ts, X_test))\n",
    "\n",
    "    else: \n",
    "        metrics_tr = calculate_metrics(y_train, y_pred_tr)\n",
    "        metrics_ts = calculate_metrics(y_test, y_pred_ts)\n",
    "\n",
    "    print(f\"TRAIN: \\nrmse:{metrics_tr[0]}\\nf1: {metrics_tr[1]}\\nTEST: \\nrmse:{metrics_ts[0]}\\nf1: {metrics_ts[1]}\")\n",
    "    return metrics_tr, metrics_ts"
   ]
  },
  {
   "cell_type": "code",
   "execution_count": 1226,
   "metadata": {},
   "outputs": [
    {
     "name": "stdout",
     "output_type": "stream",
     "text": [
      "TRAIN: \n",
      "rmse:0.6099609837905412\n",
      "f1: 0.6777292576419214\n",
      "TEST: \n",
      "rmse:0.7942858757122784\n",
      "f1: 0.5261780104712042\n"
     ]
    }
   ],
   "source": [
    "metrics_tr, metrics_ts = metrics(model, X_train, X_test, y_train, y_test, with_deals = WITH_DEALS)"
   ]
  },
  {
   "cell_type": "code",
   "execution_count": 1227,
   "metadata": {},
   "outputs": [
    {
     "name": "stdout",
     "output_type": "stream",
     "text": [
      "2.4122492043047563 datetime\n",
      "1.4936351814144013 ticker\n",
      "2.404618517336455 quantity\n",
      "7.522962541569205 summ\n",
      "21.25168626162408 id\n",
      "1.7916694821834749 start_sum\n",
      "1.1947029693536464 request\n",
      "1.653423058758609 deals\n",
      "1.2311611875091815 income_rub\n",
      "0.038167834880491504 income_percent\n",
      "1.422744074700954 mean_deal_sum\n",
      "20.365120625467085 std_deal_sum\n",
      "3.9031772376514176 len_deals\n",
      "4.986929594514319 stock_coef\n",
      "7.809658312300317 curr_coef\n",
      "1.3582028929253889 fort_coef\n",
      "3.137652406948992 income_percent_stats\n",
      "0.8467091994117816 std_free_funds\n",
      "2.3724513607922666 coef_free_funds\n",
      "0.6816426724855806 coef_free_funds2\n",
      "0.6602208477111668 mean_free_funds\n",
      "1.0255714359007573 min_free_funds\n",
      "0.7230768306983839 max_free_funds\n"
     ]
    }
   ],
   "source": [
    "for i, k in zip(model.get_feature_importance(), X_train.columns):\n",
    "    print(i, k)"
   ]
  },
  {
   "cell_type": "code",
   "execution_count": 1239,
   "metadata": {},
   "outputs": [
    {
     "data": {
      "text/plain": [
       "<AxesSubplot:>"
      ]
     },
     "execution_count": 1239,
     "metadata": {},
     "output_type": "execute_result"
    },
    {
     "data": {
      "image/png": "[encoded data removed]",
      "text/plain": [
       "<Figure size 432x288 with 2 Axes>"
      ]
     },
     "metadata": {
      "needs_background": "light"
     },
     "output_type": "display_data"
    }
   ],
   "source": [
    "sns.heatmap(confusion_matrix(y_test, y_downsampling(model_predict(model, X_train, X_test)[0], X_test)))"
   ]
  },
  {
   "attachments": {},
   "cell_type": "markdown",
   "metadata": {},
   "source": [
    "# Сравнение результатов"
   ]
  },
  {
   "cell_type": "code",
   "execution_count": 1202,
   "metadata": {},
   "outputs": [],
   "source": [
    "discription = f\"train + FE + EMB{EMB_SIZE}(sort_dist)3\"+f\" + DEALS(rmse, n={NORM_PAR}\"*WITH_DEALS"
   ]
  },
  {
   "cell_type": "code",
   "execution_count": 1203,
   "metadata": {},
   "outputs": [],
   "source": [
    "config_comparing = pd.read_csv(\"model_configs.csv\", index_col=0)"
   ]
  },
  {
   "cell_type": "code",
   "execution_count": 1204,
   "metadata": {},
   "outputs": [],
   "source": [
    "config_comparing.loc[config_comparing.shape[0]] = [discription, *metrics_tr, *metrics_ts, *grid_search.best_params_.values()]"
   ]
  },
  {
   "cell_type": "code",
   "execution_count": 1205,
   "metadata": {},
   "outputs": [
    {
     "data": {
      "text/html": [
       "<div>\n",
       "<style scoped>\n",
       "    .dataframe tbody tr th:only-of-type {\n",
       "        vertical-align: middle;\n",
       "    }\n",
       "\n",
       "    .dataframe tbody tr th {\n",
       "        vertical-align: top;\n",
       "    }\n",
       "\n",
       "    .dataframe thead th {\n",
       "        text-align: right;\n",
       "    }\n",
       "</style>\n",
       "<table border=\"1\" class=\"dataframe\">\n",
       "  <thead>\n",
       "    <tr style=\"text-align: right;\">\n",
       "      <th></th>\n",
       "      <th>discription</th>\n",
       "      <th>rmse_train</th>\n",
       "      <th>f1_train</th>\n",
       "      <th>rmse_test</th>\n",
       "      <th>f1_test</th>\n",
       "      <th>lr</th>\n",
       "      <th>reg</th>\n",
       "      <th>iter</th>\n",
       "      <th>dep</th>\n",
       "    </tr>\n",
       "  </thead>\n",
       "  <tbody>\n",
       "    <tr>\n",
       "      <th>0</th>\n",
       "      <td>train</td>\n",
       "      <td>0.845228</td>\n",
       "      <td>0.649990</td>\n",
       "      <td>0.825002</td>\n",
       "      <td>0.600992</td>\n",
       "      <td>0.05</td>\n",
       "      <td>20</td>\n",
       "      <td>300</td>\n",
       "      <td>5</td>\n",
       "    </tr>\n",
       "    <tr>\n",
       "      <th>1</th>\n",
       "      <td>train + FE</td>\n",
       "      <td>0.544925</td>\n",
       "      <td>0.838737</td>\n",
       "      <td>0.705253</td>\n",
       "      <td>0.647709</td>\n",
       "      <td>0.05</td>\n",
       "      <td>20</td>\n",
       "      <td>1000</td>\n",
       "      <td>5</td>\n",
       "    </tr>\n",
       "    <tr>\n",
       "      <th>2</th>\n",
       "      <td>train + OUTL</td>\n",
       "      <td>0.768626</td>\n",
       "      <td>0.721425</td>\n",
       "      <td>0.847891</td>\n",
       "      <td>0.600807</td>\n",
       "      <td>0.05</td>\n",
       "      <td>10</td>\n",
       "      <td>500</td>\n",
       "      <td>5</td>\n",
       "    </tr>\n",
       "    <tr>\n",
       "      <th>3</th>\n",
       "      <td>train + EMB10(rand)</td>\n",
       "      <td>0.758072</td>\n",
       "      <td>0.726841</td>\n",
       "      <td>0.908079</td>\n",
       "      <td>0.544261</td>\n",
       "      <td>0.05</td>\n",
       "      <td>20</td>\n",
       "      <td>500</td>\n",
       "      <td>4</td>\n",
       "    </tr>\n",
       "    <tr>\n",
       "      <th>4</th>\n",
       "      <td>train + EMB4(dist_discr)</td>\n",
       "      <td>0.809874</td>\n",
       "      <td>0.673316</td>\n",
       "      <td>0.865269</td>\n",
       "      <td>0.587446</td>\n",
       "      <td>0.05</td>\n",
       "      <td>10</td>\n",
       "      <td>300</td>\n",
       "      <td>4</td>\n",
       "    </tr>\n",
       "    <tr>\n",
       "      <th>5</th>\n",
       "      <td>train + EMB10(approc)</td>\n",
       "      <td>0.789118</td>\n",
       "      <td>0.694424</td>\n",
       "      <td>0.872800</td>\n",
       "      <td>0.584053</td>\n",
       "      <td>0.05</td>\n",
       "      <td>10</td>\n",
       "      <td>300</td>\n",
       "      <td>4</td>\n",
       "    </tr>\n",
       "    <tr>\n",
       "      <th>6</th>\n",
       "      <td>train + EMB10(sort_dist)</td>\n",
       "      <td>0.831687</td>\n",
       "      <td>0.672513</td>\n",
       "      <td>0.875794</td>\n",
       "      <td>0.579620</td>\n",
       "      <td>0.05</td>\n",
       "      <td>20</td>\n",
       "      <td>300</td>\n",
       "      <td>4</td>\n",
       "    </tr>\n",
       "    <tr>\n",
       "      <th>7</th>\n",
       "      <td>train + EMB25(approc)</td>\n",
       "      <td>0.794633</td>\n",
       "      <td>0.717275</td>\n",
       "      <td>0.862239</td>\n",
       "      <td>0.578924</td>\n",
       "      <td>0.05</td>\n",
       "      <td>10</td>\n",
       "      <td>300</td>\n",
       "      <td>5</td>\n",
       "    </tr>\n",
       "    <tr>\n",
       "      <th>8</th>\n",
       "      <td>train + EMB16(approc)</td>\n",
       "      <td>0.776286</td>\n",
       "      <td>0.735163</td>\n",
       "      <td>0.848466</td>\n",
       "      <td>0.604577</td>\n",
       "      <td>0.05</td>\n",
       "      <td>10</td>\n",
       "      <td>500</td>\n",
       "      <td>4</td>\n",
       "    </tr>\n",
       "    <tr>\n",
       "      <th>9</th>\n",
       "      <td>train + EMB21(approc)</td>\n",
       "      <td>0.814712</td>\n",
       "      <td>0.704075</td>\n",
       "      <td>0.857672</td>\n",
       "      <td>0.594055</td>\n",
       "      <td>0.05</td>\n",
       "      <td>20</td>\n",
       "      <td>500</td>\n",
       "      <td>4</td>\n",
       "    </tr>\n",
       "    <tr>\n",
       "      <th>10</th>\n",
       "      <td>train + EMB5(sort_dist)</td>\n",
       "      <td>0.511868</td>\n",
       "      <td>0.879268</td>\n",
       "      <td>0.877288</td>\n",
       "      <td>0.582285</td>\n",
       "      <td>0.10</td>\n",
       "      <td>10</td>\n",
       "      <td>500</td>\n",
       "      <td>5</td>\n",
       "    </tr>\n",
       "    <tr>\n",
       "      <th>11</th>\n",
       "      <td>train + EMB16(sort_dist)</td>\n",
       "      <td>0.766094</td>\n",
       "      <td>0.747217</td>\n",
       "      <td>0.848466</td>\n",
       "      <td>0.603552</td>\n",
       "      <td>0.05</td>\n",
       "      <td>35</td>\n",
       "      <td>1000</td>\n",
       "      <td>4</td>\n",
       "    </tr>\n",
       "    <tr>\n",
       "      <th>12</th>\n",
       "      <td>train + FE + EMB16(sort_dist)</td>\n",
       "      <td>0.480175</td>\n",
       "      <td>0.872720</td>\n",
       "      <td>0.732563</td>\n",
       "      <td>0.654971</td>\n",
       "      <td>0.10</td>\n",
       "      <td>35</td>\n",
       "      <td>1000</td>\n",
       "      <td>4</td>\n",
       "    </tr>\n",
       "    <tr>\n",
       "      <th>13</th>\n",
       "      <td>train + FE + EMB16(approc)</td>\n",
       "      <td>0.369113</td>\n",
       "      <td>0.928022</td>\n",
       "      <td>0.746721</td>\n",
       "      <td>0.637825</td>\n",
       "      <td>0.05</td>\n",
       "      <td>4</td>\n",
       "      <td>1000</td>\n",
       "      <td>4</td>\n",
       "    </tr>\n",
       "    <tr>\n",
       "      <th>14</th>\n",
       "      <td>train + FE + EMB16(sort_dist)2</td>\n",
       "      <td>0.488291</td>\n",
       "      <td>0.870049</td>\n",
       "      <td>0.718127</td>\n",
       "      <td>0.637235</td>\n",
       "      <td>0.05</td>\n",
       "      <td>10</td>\n",
       "      <td>1000</td>\n",
       "      <td>4</td>\n",
       "    </tr>\n",
       "    <tr>\n",
       "      <th>15</th>\n",
       "      <td>train + FE + DEALS(rmse, n=0.8)</td>\n",
       "      <td>0.395388</td>\n",
       "      <td>0.860983</td>\n",
       "      <td>0.678773</td>\n",
       "      <td>0.629894</td>\n",
       "      <td>0.10</td>\n",
       "      <td>35</td>\n",
       "      <td>500</td>\n",
       "      <td>5</td>\n",
       "    </tr>\n",
       "    <tr>\n",
       "      <th>16</th>\n",
       "      <td>train + FE + DEALS(mae, n=0.8)</td>\n",
       "      <td>0.847292</td>\n",
       "      <td>0.556512</td>\n",
       "      <td>0.964012</td>\n",
       "      <td>0.448035</td>\n",
       "      <td>0.10</td>\n",
       "      <td>35</td>\n",
       "      <td>300</td>\n",
       "      <td>4</td>\n",
       "    </tr>\n",
       "    <tr>\n",
       "      <th>17</th>\n",
       "      <td>train + FE + DEALS(rmse, n=1.5)</td>\n",
       "      <td>0.489184</td>\n",
       "      <td>0.778960</td>\n",
       "      <td>0.705253</td>\n",
       "      <td>0.590247</td>\n",
       "      <td>0.10</td>\n",
       "      <td>35</td>\n",
       "      <td>500</td>\n",
       "      <td>5</td>\n",
       "    </tr>\n",
       "    <tr>\n",
       "      <th>18</th>\n",
       "      <td>train + FE + DEALS(rmse, n=0.5)</td>\n",
       "      <td>0.553670</td>\n",
       "      <td>0.718958</td>\n",
       "      <td>0.701532</td>\n",
       "      <td>0.590166</td>\n",
       "      <td>0.05</td>\n",
       "      <td>15</td>\n",
       "      <td>300</td>\n",
       "      <td>5</td>\n",
       "    </tr>\n",
       "    <tr>\n",
       "      <th>19</th>\n",
       "      <td>train + FE + EMB16(sort_dist)3</td>\n",
       "      <td>0.556031</td>\n",
       "      <td>0.824454</td>\n",
       "      <td>0.727183</td>\n",
       "      <td>0.641361</td>\n",
       "      <td>0.10</td>\n",
       "      <td>35</td>\n",
       "      <td>500</td>\n",
       "      <td>5</td>\n",
       "    </tr>\n",
       "  </tbody>\n",
       "</table>\n",
       "</div>"
      ],
      "text/plain": [
       "                        discription  rmse_train  f1_train  rmse_test  \\\n",
       "0                             train    0.845228  0.649990   0.825002   \n",
       "1                        train + FE    0.544925  0.838737   0.705253   \n",
       "2                      train + OUTL    0.768626  0.721425   0.847891   \n",
       "3               train + EMB10(rand)    0.758072  0.726841   0.908079   \n",
       "4          train + EMB4(dist_discr)    0.809874  0.673316   0.865269   \n",
       "5             train + EMB10(approc)    0.789118  0.694424   0.872800   \n",
       "6          train + EMB10(sort_dist)    0.831687  0.672513   0.875794   \n",
       "7             train + EMB25(approc)    0.794633  0.717275   0.862239   \n",
       "8             train + EMB16(approc)    0.776286  0.735163   0.848466   \n",
       "9             train + EMB21(approc)    0.814712  0.704075   0.857672   \n",
       "10          train + EMB5(sort_dist)    0.511868  0.879268   0.877288   \n",
       "11         train + EMB16(sort_dist)    0.766094  0.747217   0.848466   \n",
       "12    train + FE + EMB16(sort_dist)    0.480175  0.872720   0.732563   \n",
       "13       train + FE + EMB16(approc)    0.369113  0.928022   0.746721   \n",
       "14   train + FE + EMB16(sort_dist)2    0.488291  0.870049   0.718127   \n",
       "15  train + FE + DEALS(rmse, n=0.8)    0.395388  0.860983   0.678773   \n",
       "16   train + FE + DEALS(mae, n=0.8)    0.847292  0.556512   0.964012   \n",
       "17  train + FE + DEALS(rmse, n=1.5)    0.489184  0.778960   0.705253   \n",
       "18  train + FE + DEALS(rmse, n=0.5)    0.553670  0.718958   0.701532   \n",
       "19   train + FE + EMB16(sort_dist)3    0.556031  0.824454   0.727183   \n",
       "\n",
       "     f1_test    lr  reg  iter  dep  \n",
       "0   0.600992  0.05   20   300    5  \n",
       "1   0.647709  0.05   20  1000    5  \n",
       "2   0.600807  0.05   10   500    5  \n",
       "3   0.544261  0.05   20   500    4  \n",
       "4   0.587446  0.05   10   300    4  \n",
       "5   0.584053  0.05   10   300    4  \n",
       "6   0.579620  0.05   20   300    4  \n",
       "7   0.578924  0.05   10   300    5  \n",
       "8   0.604577  0.05   10   500    4  \n",
       "9   0.594055  0.05   20   500    4  \n",
       "10  0.582285  0.10   10   500    5  \n",
       "11  0.603552  0.05   35  1000    4  \n",
       "12  0.654971  0.10   35  1000    4  \n",
       "13  0.637825  0.05    4  1000    4  \n",
       "14  0.637235  0.05   10  1000    4  \n",
       "15  0.629894  0.10   35   500    5  \n",
       "16  0.448035  0.10   35   300    4  \n",
       "17  0.590247  0.10   35   500    5  \n",
       "18  0.590166  0.05   15   300    5  \n",
       "19  0.641361  0.10   35   500    5  "
      ]
     },
     "execution_count": 1205,
     "metadata": {},
     "output_type": "execute_result"
    }
   ],
   "source": [
    "config_comparing"
   ]
  },
  {
   "cell_type": "code",
   "execution_count": 1206,
   "metadata": {},
   "outputs": [],
   "source": [
    "config_comparing.to_csv(\"model_configs.csv\")"
   ]
  },
  {
   "attachments": {},
   "cell_type": "markdown",
   "metadata": {
    "id": "JtxMZXI1JUuw",
    "jp-MarkdownHeadingCollapsed": true
   },
   "source": [
    "# Мусорка"
   ]
  },
  {
   "cell_type": "code",
   "execution_count": 1070,
   "metadata": {},
   "outputs": [
    {
     "data": {
      "text/plain": [
       "array([5., 5., 2., 1., 2., 1., 3., 2., 5., 3., 3., 1., 1., 1., 1., 5., 3.,\n",
       "       1., 1., 3., 1., 4., 2., 2., 4., 2., 5., 5., 5., 2., 3., 5., 2., 1.,\n",
       "       4., 3., 5., 4., 5., 3., 3., 3., 4., 5., 3., 4., 1., 4., 2., 3., 4.,\n",
       "       1., 4., 4., 3., 1., 5., 4., 3., 1., 5., 1., 1., 4., 5., 1., 4., 5.,\n",
       "       1., 1., 4., 2., 5., 5., 3., 1., 3., 4., 1., 3., 2., 4., 4., 5., 2.,\n",
       "       1., 1., 1., 4., 2., 5., 5., 3., 5., 1., 4., 5., 2., 3., 2., 5., 5.,\n",
       "       4., 4., 2., 3., 4., 3., 4., 3., 1., 1., 5., 4., 5., 5., 5., 4., 1.,\n",
       "       4., 1., 1., 4., 2., 1., 3., 4., 4., 2., 4., 3., 1., 4., 2., 2., 4.,\n",
       "       4., 1., 4., 3., 3., 3., 1., 3., 2., 1., 3., 4., 5., 1., 4., 3., 3.,\n",
       "       4., 1., 2., 4., 3., 1., 5., 2., 2., 2., 2., 1., 3., 1., 2., 5., 5.,\n",
       "       4., 1., 5., 5., 5., 4., 2., 5., 4., 1., 2., 5., 1., 5., 5., 5., 3.,\n",
       "       1., 1., 1., 1., 2., 5., 1., 3., 3., 4., 5., 2., 5., 2., 3., 4., 2.,\n",
       "       4., 3., 2., 1., 4., 1., 3., 2., 4., 5., 1., 1., 4., 4., 4., 3., 5.,\n",
       "       5., 3., 2., 5., 3., 5., 1., 5., 3., 5., 2., 2., 2., 5., 2., 2., 1.,\n",
       "       5., 4., 2., 1., 3., 4., 4., 5., 5., 5., 4., 5., 5., 5., 5., 4., 5.,\n",
       "       4., 3., 3., 2., 3., 3., 1., 3., 4., 5., 5., 5., 3., 2., 4., 2., 1.,\n",
       "       1., 3., 1., 5., 5., 5., 4., 4., 1., 5., 2., 4., 5., 4., 3., 5., 3.,\n",
       "       3., 5., 2., 4., 3., 1., 5., 2., 5., 2., 1., 2., 2., 4., 3., 2., 4.,\n",
       "       1., 4., 3., 4., 1., 3., 2., 2., 2., 1., 2., 4., 3., 3., 4., 1., 5.,\n",
       "       1., 2., 5., 5., 2., 4., 5., 3., 3., 3., 3., 3., 5., 4., 3., 5., 2.,\n",
       "       5., 2., 1., 4., 4., 4., 1., 2., 2., 4., 5., 2., 5., 2., 4., 5., 3.,\n",
       "       1., 2., 5., 3., 2., 4., 2., 2., 1., 2., 3., 4., 4., 1., 3., 1., 2.,\n",
       "       2., 1., 5., 4., 5., 2., 3., 5.])"
      ]
     },
     "execution_count": 1070,
     "metadata": {},
     "output_type": "execute_result"
    }
   ],
   "source": [
    "np.array(y_test).astype(np.float64)"
   ]
  },
  {
   "cell_type": "code",
   "execution_count": 1071,
   "metadata": {},
   "outputs": [
    {
     "data": {
      "text/plain": [
       "array([4., 4., 3., 1., 2., 2., 3., 2., 4., 3., 2., 1., 2., 1., 1., 4., 4.,\n",
       "       2., 2., 3., 1., 4., 3., 2., 4., 2., 4., 3., 4., 2., 4., 4., 3., 1.,\n",
       "       3., 3., 4., 4., 4., 3., 2., 3., 4., 4., 2., 4., 1., 4., 3., 3., 3.,\n",
       "       2., 3., 4., 3., 1., 4., 4., 4., 1., 3., 1., 1., 3., 3., 2., 4., 3.,\n",
       "       1., 1., 4., 2., 3., 3., 3., 1., 4., 3., 2., 4., 2., 4., 3., 3., 2.,\n",
       "       1., 2., 1., 4., 2., 3., 3., 3., 4., 1., 4., 4., 2., 3., 2., 4., 3.,\n",
       "       3., 3., 2., 4., 4., 3., 4., 4., 2., 2., 3., 3., 3., 3., 3., 3., 1.,\n",
       "       3., 1., 2., 3., 2., 1., 3., 3., 3., 2., 4., 2., 1., 3., 2., 3., 4.,\n",
       "       3., 2., 4., 3., 3., 4., 1., 3., 3., 1., 4., 4., 4., 2., 4., 3., 3.,\n",
       "       4., 2., 2., 4., 4., 1., 3., 3., 2., 2., 2., 1., 3., 2., 3., 4., 4.,\n",
       "       4., 1., 4., 3., 3., 3., 2., 4., 3., 1., 3., 3., 1., 3., 4., 3., 3.,\n",
       "       1., 1., 2., 1., 2., 3., 1., 4., 3., 3., 4., 2., 3., 2., 3., 4., 2.,\n",
       "       4., 4., 2., 2., 3., 1., 5., 2., 3., 3., 1., 2., 3., 4., 5., 3., 3.,\n",
       "       3., 3., 1., 3., 2., 3., 1., 3., 3., 3., 2., 3., 2., 3., 3., 1., 1.,\n",
       "       4., 4., 2., 1., 3., 4., 3., 4., 3., 4., 4., 3., 3., 3., 3., 4., 3.,\n",
       "       3., 3., 4., 2., 3., 3., 1., 3., 4., 3., 4., 3., 4., 2., 3., 1., 2.,\n",
       "       2., 3., 2., 4., 4., 3., 3., 4., 1., 3., 2., 4., 4., 3., 3., 4., 3.,\n",
       "       4., 3., 3., 3., 3., 1., 3., 2., 3., 2., 2., 3., 2., 3., 4., 3., 4.,\n",
       "       1., 4., 3., 4., 2., 4., 2., 3., 2., 2., 2., 3., 3., 3., 3., 2., 4.,\n",
       "       1., 2., 4., 3., 2., 4., 3., 3., 2., 4., 4., 3., 3., 3., 3., 3., 3.,\n",
       "       4., 2., 2., 4., 3., 3., 1., 2., 3., 3., 4., 4., 4., 2., 3., 4., 3.,\n",
       "       1., 2., 3., 3., 2., 3., 2., 2., 2., 2., 3., 3., 4., 1., 3., 1., 2.,\n",
       "       3., 2., 3., 4., 4., 3., 3., 4.])"
      ]
     },
     "execution_count": 1071,
     "metadata": {},
     "output_type": "execute_result"
    }
   ],
   "source": [
    "y_downsampling(y_pred_ts, X_test)"
   ]
  },
  {
   "cell_type": "code",
   "execution_count": 1026,
   "metadata": {},
   "outputs": [
    {
     "data": {
      "image/png": "[encoded data removed]",
      "text/plain": [
       "<Figure size 1800x216 with 1 Axes>"
      ]
     },
     "metadata": {
      "needs_background": "light"
     },
     "output_type": "display_data"
    },
    {
     "data": {
      "image/png": "[encoded data removed]",
      "text/plain": [
       "<Figure size 1800x216 with 1 Axes>"
      ]
     },
     "metadata": {
      "needs_background": "light"
     },
     "output_type": "display_data"
    },
    {
     "data": {
      "image/png": "[encoded data removed]",
      "text/plain": [
       "<Figure size 1800x216 with 1 Axes>"
      ]
     },
     "metadata": {
      "needs_background": "light"
     },
     "output_type": "display_data"
    },
    {
     "data": {
      "image/png": "[encoded data removed]",
      "text/plain": [
       "<Figure size 1800x216 with 1 Axes>"
      ]
     },
     "metadata": {
      "needs_background": "light"
     },
     "output_type": "display_data"
    },
    {
     "data": {
      "image/png": "[encoded data removed]",
      "text/plain": [
       "<Figure size 1800x216 with 1 Axes>"
      ]
     },
     "metadata": {
      "needs_background": "light"
     },
     "output_type": "display_data"
    }
   ],
   "source": [
    "import matplotlib.pyplot as plt\n",
    "\n",
    "for clas in range(1, 6):\n",
    "    l=[]\n",
    "    for id in train[train['class']==clas].id:\n",
    "        if data[id]['deals'] is not None:\n",
    "            l.append(len(data[id]['deals']))\n",
    "    fig, ax = plt.subplots(figsize=(25, 3))\n",
    "\n",
    "    ax.hist(l, bins = len(set(l)), range=(0, 40000))\n",
    "    ax.set_xlabel('Number of deals')\n",
    "    ax.set_ylabel('Frequency')\n",
    "    ax.set_title(f\"Class {clas} Histogram\")\n",
    "\n",
    "    plt.show()"
   ]
  },
  {
   "cell_type": "code",
   "execution_count": 45,
   "metadata": {},
   "outputs": [],
   "source": [
    "train = pd.merge(concat_deals(train), train, on ='id') # по id соединяем юзера с его deals "
   ]
  },
  {
   "cell_type": "code",
   "execution_count": 829,
   "metadata": {
    "colab": {
     "base_uri": "https://localhost:8080/"
    },
    "id": "sb9KPnSDGkxa",
    "outputId": "b02335e3-fd02-4a53-a18e-f5288518c441"
   },
   "outputs": [],
   "source": [
    "# splitting train on train and test sets\n",
    "X = train.drop(columns = [\"class\", \"nickname\", \"id\"])\n",
    "y = train[\"class\"]\n",
    "X_train, X_test, y_train, y_test = train_test_split(X, y, random_state=42, train_size = 0.75)"
   ]
  },
  {
   "cell_type": "code",
   "execution_count": 1130,
   "metadata": {},
   "outputs": [
    {
     "name": "stdout",
     "output_type": "stream",
     "text": [
      "Best Parameters: {'learning_rate': 0.1, 'l2_leaf_reg': 35, 'iterations': 300, 'depth': 5}\n",
      "Best CV Score: -0.39768823524523433\n"
     ]
    }
   ],
   "source": [
    "cat_columns = X_train.select_dtypes(include=['object']).columns\n",
    "model = CatBoostRegressor(verbose=0, loss_function='RMSE')\n",
    "\n",
    "param_grid = {'iterations': [500, 1000, 300],\n",
    "              'learning_rate': [0.05, 0.1],\n",
    "              'depth': [4, 5],\n",
    "              \"l2_leaf_reg\": [15, 35, 60]}\n",
    "\n",
    "grid_search = RandomizedSearchCV(estimator=model, \n",
    "                                param_distributions=param_grid, \n",
    "                                cv=5, \n",
    "                                scoring='neg_mean_squared_error', \n",
    "                                n_iter=6)\n",
    "\n",
    "grid_search.fit(X_train, y_train)\n",
    "\n",
    "print(\"Best Parameters:\", grid_search.best_params_)\n",
    "print(\"Best CV Score:\", grid_search.best_score_)"
   ]
  },
  {
   "cell_type": "code",
   "execution_count": 719,
   "metadata": {
    "colab": {
     "base_uri": "https://localhost:8080/"
    },
    "id": "AarBIOGy7Fu2",
    "outputId": "688f6f6d-05bc-4787-9213-100b9d1ecea8"
   },
   "outputs": [
    {
     "name": "stdout",
     "output_type": "stream",
     "text": [
      "Best Parameters: {'learning_rate': 0.1, 'l2_leaf_reg': 20, 'iterations': 500, 'depth': 5}\n",
      "Best CV Score: 0.6415932042350023\n",
      "Wall time: 5min 25s\n"
     ]
    }
   ],
   "source": [
    "%%time\n",
    "\n",
    "cat_columns = X_train.select_dtypes(include=['object']).columns\n",
    "model = CatBoostClassifier(verbose=0, loss_function='MultiClass')\n",
    "\n",
    "param_grid = {'iterations': [500, 1000, 300],\n",
    "              'learning_rate': [0.05, 0.1],\n",
    "              'depth': [4, 5],\n",
    "              \"l2_leaf_reg\": [4, 10, 20, 35]}\n",
    "\n",
    "grid_search = RandomizedSearchCV(estimator=model, \n",
    "                                param_distributions=param_grid, \n",
    "                                cv=5, \n",
    "                                scoring='f1_macro', \n",
    "                                n_iter=10)\n",
    "\n",
    "grid_search.fit(X_train, y_train)\n",
    "\n",
    "print(\"Best Parameters:\", grid_search.best_params_)\n",
    "print(\"Best CV Score:\", grid_search.best_score_)"
   ]
  },
  {
   "cell_type": "code",
   "execution_count": 1131,
   "metadata": {
    "colab": {
     "base_uri": "https://localhost:8080/"
    },
    "id": "I4sARs7FuKhG",
    "outputId": "3c560003-0c4e-43e8-83e2-8db5282b3262"
   },
   "outputs": [
    {
     "name": "stdout",
     "output_type": "stream",
     "text": [
      "Results of all configurations [-0.4100753  -0.40429761 -0.42660735 -0.40226572 -0.40152396 -0.39768824]\n"
     ]
    }
   ],
   "source": [
    "cbc = grid_search.best_estimator_\n",
    "results = grid_search.cv_results_\n",
    "print(\"Results of all configurations\", results['mean_test_score'])"
   ]
  },
  {
   "cell_type": "code",
   "execution_count": 46,
   "metadata": {},
   "outputs": [],
   "source": [
    "def my_train_test_split(df, random_state=42, train_size = 0.75):\n",
    "    \n",
    "    X_train, X_test = pd.DataFrame(columns = df.columns), pd.DataFrame(columns = df.columns)\n",
    "    y_train, y_test = pd.Series([]), pd.Series([])\n",
    "    \n",
    "    while (len(X_train) / len(df)) < (train_size / (1-train_size)):\n",
    "        unique_ids = df.id.unique() \n",
    "        rand_id = unique_ids[randint(0, len(unique_ids)-1)] # рандомный id юзера\n",
    "        X_train = pd.concat([X_train, df[df.id==rand_id]], ignore_index=True) # добавляем в треин выборку операции этого юзера\n",
    "        y_train = y_train + pd.Series([df[df.id == rand_id]['class'].values[0]] * id_len[rand_id])\n",
    "        df.drop(df[df.id == rand_id].index, inplace = True) # удаляем операции юзера из датафрейма, который потом станет тестовым\n",
    "    X_test = df.drop(columns = [\"class\", \"nickname\"])\n",
    "    X_train = X_train.drop(columns = [\"class\", \"nickname\"])\n",
    "    X_test = X_test[X_train.columns]\n",
    "    y_test = df['class']\n",
    "    return X_train, X_test, y_train, y_test"
   ]
  },
  {
   "cell_type": "code",
   "execution_count": 619,
   "metadata": {},
   "outputs": [],
   "source": [
    "config_comparing = config_comparing.reset_index(drop=True)"
   ]
  },
  {
   "cell_type": "code",
   "execution_count": 46,
   "metadata": {},
   "outputs": [],
   "source": [
    "def cv_metrics(cbc, X, y):\n",
    "    y_pred = cbc.predict(X)\n",
    "    f1_scores = cross_val_score(cbc, X, y, cv=5, scoring='f1_macro')\n",
    "    nrmse = cross_val_score(cbc, X, y, cv=5, scoring='neg_root_mean_squared_error')\n",
    "    print(f\"RMSE: {-np.mean(nrmse)}\\nF1: {f1_scores}\")\n",
    "    # return -nrmse.mean(), f1_score.mean()\n"
   ]
  },
  {
   "cell_type": "code",
   "execution_count": 47,
   "metadata": {},
   "outputs": [
    {
     "name": "stdout",
     "output_type": "stream",
     "text": [
      "RMSE: 0.8042710363397572\n",
      "F1: [0.63636364 0.63636364 0.63157895 0.67105263 0.59210526]\n"
     ]
    }
   ],
   "source": [
    "cv_metrics(cbc, X_test, y_test)"
   ]
  },
  {
   "cell_type": "code",
   "execution_count": null,
   "metadata": {},
   "outputs": [],
   "source": [
    "from sklearn.metrics import accuracy_score\n",
    "score = accuracy_score(y_test, y_pred_ts)\n",
    "score"
   ]
  },
  {
   "cell_type": "code",
   "execution_count": null,
   "metadata": {},
   "outputs": [],
   "source": [
    "tables_counter = []\n",
    "\n",
    "for mode in [\"train\", \"test\"]:\n",
    "    ids = train.id if mode==\"train\" else final_test.id\n",
    "    for id in ids:\n",
    "        deals_1 = f'{DIRECTORY}data/{mode}/{mode}_deals/1_{id}.csv'\n",
    "        deals_2 = f'{DIRECTORY}data/{mode}/{mode}_deals/2_{id}.csv'\n",
    "        deals_3 = f'{DIRECTORY}data/{mode}/{mode}_deals/3_{id}.csv'\n",
    "        tables_counter.append(os.path.exists(deals_1) + os.path.exists(deals_2) + os.path.exists(deals_3))\n",
    "tables_counter.count(0)"
   ]
  },
  {
   "cell_type": "code",
   "execution_count": null,
   "metadata": {},
   "outputs": [],
   "source": [
    "pd.Series(tables_counter).hist()"
   ]
  },
  {
   "cell_type": "code",
   "execution_count": null,
   "metadata": {},
   "outputs": [],
   "source": [
    "tables_exists = []\n",
    "\n",
    "for mode in [\"train\", \"test\"]:\n",
    "    ids = train.id if mode==\"train\" else final_test.id\n",
    "    for id in ids:\n",
    "        deals_1 = f'{DIRECTORY}data/{mode}/{mode}_deals/1_{id}.csv'\n",
    "        deals_2 = f'{DIRECTORY}data/{mode}/{mode}_deals/2_{id}.csv'\n",
    "        deals_3 = f'{DIRECTORY}data/{mode}/{mode}_deals/3_{id}.csv'\n",
    "        if os.path.exists(deals_1):\n",
    "            tables_exists.append(1)\n",
    "        if os.path.exists(deals_2):\n",
    "            tables_exists.append(2)\n",
    "        if os.path.exists(deals_3):\n",
    "            tables_exists.append(3)\n",
    "pd.Series(tables_exists).hist()"
   ]
  },
  {
   "cell_type": "code",
   "execution_count": null,
   "metadata": {},
   "outputs": [],
   "source": [
    "len_deals_1 = []\n",
    "len_deals_2 = []\n",
    "len_deals_3 = []\n",
    "\n",
    "for mode in [\"train\", \"test\"]:\n",
    "    ids = train.id if mode==\"train\" else final_test.id\n",
    "    for id in ids:\n",
    "        deals_1 = f'{DIRECTORY}data/{mode}/{mode}_deals/1_{id}.csv'\n",
    "        deals_2 = f'{DIRECTORY}data/{mode}/{mode}_deals/2_{id}.csv'\n",
    "        deals_3 = f'{DIRECTORY}data/{mode}/{mode}_deals/3_{id}.csv'\n",
    "        if os.path.exists(deals_1):\n",
    "            len_deals_1.append(len(pd.read_csv(deals_1)))\n",
    "        if os.path.exists(deals_2):\n",
    "            len_deals_2.append(len(pd.read_csv(deals_2)))\n",
    "        if os.path.exists(deals_3):\n",
    "            len_deals_3.append(len(pd.read_csv(deals_3)))"
   ]
  },
  {
   "cell_type": "code",
   "execution_count": null,
   "metadata": {},
   "outputs": [],
   "source": [
    "print(len(set(len_deals_1)), len([len_deals_1.count(i) for i in set(len_deals_1)]))"
   ]
  },
  {
   "cell_type": "code",
   "execution_count": null,
   "metadata": {},
   "outputs": [],
   "source": [
    "import matplotlib.pyplot as plt\n",
    "fig, axes = plt.subplots(figsize = (18, 8))\n",
    "axes.plot(list(set(len_deals_1)), [len_deals_1.count(i) for i in set(len_deals_1)])\n",
    "axes.plot(list(set(len_deals_2)), [len_deals_2.count(i) for i in set(len_deals_2)])\n",
    "axes.plot(list(set(len_deals_3)), [len_deals_3.count(i) for i in set(len_deals_3)])\n",
    "axes.set_xlabel(\"длина\", fontsize = 16)\n",
    "axes.set_ylabel(\"частота\", fontsize = 16)\n",
    "axes.legend(fontsize = 14)"
   ]
  },
  {
   "cell_type": "code",
   "execution_count": null,
   "metadata": {},
   "outputs": [],
   "source": [
    "from sklearn.metrics import accuracy_score\n",
    "accuracy_score(y_test, y_pred_ts)"
   ]
  },
  {
   "cell_type": "code",
   "execution_count": null,
   "metadata": {},
   "outputs": [],
   "source": [
    "import matplotlib.pyplot as plt\n",
    "plt.figure(figsize=(15,6))\n",
    "plt.scatter(adding_embedings(train)[0], adding_embedings(train)[1], [1])\n"
   ]
  },
  {
   "cell_type": "code",
   "execution_count": null,
   "metadata": {},
   "outputs": [],
   "source": [
    "d_pca=[1, 2, 3, 4, 5, 6, 7, 8, 9]\n",
    "fix_size = 4\n",
    "[d_pca[i*(len(d_pca)//(fix_size-1)) if i!=fix_size-1 else -1] for i in range(fix_size)]"
   ]
  },
  {
   "cell_type": "code",
   "execution_count": null,
   "metadata": {},
   "outputs": [],
   "source": [
    "account_condition.exist()"
   ]
  },
  {
   "cell_type": "code",
   "execution_count": null,
   "metadata": {},
   "outputs": [],
   "source": [
    "a = w = i = 9\n",
    "w+i"
   ]
  },
  {
   "cell_type": "code",
   "execution_count": null,
   "metadata": {},
   "outputs": [],
   "source": [
    "test_additional_info_id_account_condition_list = []\n",
    "test_additional_info_id_reference_point_list = []\n",
    "test_additional_info_id_stats_table_list = []\n",
    "test_deals_list = []\n",
    "\n",
    "account_condition_list = []\n",
    "reference_point_list = []\n",
    "stats_table_list = []\n",
    "test_deals_list = []\n",
    "list_cnt_tables = []\n",
    "\n",
    "main = pd.read_csv(f'/content/data/test/test.csv', sep = ',')\n",
    "ids = main['id']\n",
    "\n",
    "cnt_tables = 0\n",
    "for id in ids:\n",
    "    test_additional_info_id_account_condition_list.append(pd.read_csv(f'/content/data/test/test_additional_info/id_{id}/account_condition_{id}.csv'))\n",
    "    test_additional_info_id_reference_point_list.append(pd.read_csv(f'/content/data/test/test_additional_info/id_{id}/reference_point_{id}.csv'))\n",
    "    test_additional_info_id_stats_table_list.append(pd.read_csv(f'/content/data/test/test_additional_info/id_{id}/stats_table_{id}.csv', sep=';'))\n",
    "    if not (pd.read_csv(f'/content/data/test/test_additional_info/id_{id}/account_condition_{id}.csv').empty):\n",
    "        account_condition_list.append(1)\n",
    "        cnt_tables += 1\n",
    "    if not (pd.read_csv(f'/content/data/test/test_additional_info/id_{id}/reference_point_{id}.csv').empty):\n",
    "        reference_point_list.append(1)\n",
    "        cnt_tables += 1\n",
    "    if not (pd.read_csv(f'/content/data/test/test_additional_info/id_{id}/stats_table_{id}.csv').empty):\n",
    "        test_deals_list.append(1)\n",
    "        cnt_tables += 1\n",
    "    list_cnt_tables.append(cnt_tables)\n",
    "    cnt_tables = 0\n",
    "\n",
    "test_additional_info_id_account_condition = pd.concat(test_additional_info_id_account_condition_list, axis=0, join='outer', ignore_index=False, keys=ids)\n",
    "test_additional_info_id_reference_point = pd.concat(test_additional_info_id_reference_point_list, axis=0, join='outer', ignore_index=False, keys=ids)\n",
    "test_additional_info_id_stats_table = pd.concat(test_additional_info_id_stats_table_list, axis=0, join='outer', ignore_index=False, keys=ids)\n",
    "\n",
    "# for id in ids:\n",
    "#   test_deals_list.append(pd.read_csv(f'/content/data/test/test_deals/1_{id}.csv'))\n",
    "# test_deals = pd.concat(test_deals_list, axis=0, join='outer', ignore_index=False, keys=ids)\n",
    "\n",
    "distr_tables = pd.DataFrame({'id' : ids, \n",
    "                             'count_tables' : list_cnt_tables, \n",
    "                             })\n",
    "\n",
    "distr_tables  "
   ]
  },
  {
   "cell_type": "code",
   "execution_count": null,
   "metadata": {
    "colab": {
     "base_uri": "https://localhost:8080/",
     "height": 423
    },
    "id": "NjVOSOkExL-J",
    "outputId": "f1d8e683-4e34-4496-8155-a301e73e3500"
   },
   "outputs": [],
   "source": [
    "test_additional_info_id_account_condition_list = []\n",
    "test_additional_info_id_reference_point_list = []\n",
    "test_additional_info_id_stats_table_list = []\n",
    "test_deals_list = []\n",
    "\n",
    "account_condition_list = []\n",
    "reference_point_list = []\n",
    "stats_table_list = []\n",
    "test_deals_list = []\n",
    "list_cnt_tables = []\n",
    "\n",
    "main = pd.read_csv(f'/content/data/test/test.csv', sep = ',')\n",
    "ids = main['id']\n",
    "\n",
    "cnt_tables = 0\n",
    "for id in ids:\n",
    "  test_additional_info_id_account_condition_list.append(pd.read_csv(f'/content/data/test/test_additional_info/id_{id}/account_condition_{id}.csv'))\n",
    "  test_additional_info_id_reference_point_list.append(pd.read_csv(f'/content/data/test/test_additional_info/id_{id}/reference_point_{id}.csv'))\n",
    "  test_additional_info_id_stats_table_list.append(pd.read_csv(f'/content/data/test/test_additional_info/id_{id}/stats_table_{id}.csv', sep=';'))\n",
    "  if not (pd.read_csv(f'/content/data/test/test_additional_info/id_{id}/account_condition_{id}.csv').empty):\n",
    "    account_condition_list.append(1)\n",
    "    cnt_tables += 1\n",
    "  if not (pd.read_csv(f'/content/data/test/test_additional_info/id_{id}/reference_point_{id}.csv').empty):\n",
    "    reference_point_list.append(1)\n",
    "    cnt_tables += 1\n",
    "  if not (pd.read_csv(f'/content/data/test/test_additional_info/id_{id}/stats_table_{id}.csv').empty):\n",
    "    test_deals_list.append(1)\n",
    "    cnt_tables += 1\n",
    "  list_cnt_tables.append(cnt_tables)\n",
    "  cnt_tables = 0\n",
    "\n",
    "test_additional_info_id_account_condition = pd.concat(test_additional_info_id_account_condition_list, axis=0, join='outer', ignore_index=False, keys=ids)\n",
    "test_additional_info_id_reference_point = pd.concat(test_additional_info_id_reference_point_list, axis=0, join='outer', ignore_index=False, keys=ids)\n",
    "test_additional_info_id_stats_table = pd.concat(test_additional_info_id_stats_table_list, axis=0, join='outer', ignore_index=False, keys=ids)\n",
    "\n",
    "# for id in ids:\n",
    "#   test_deals_list.append(pd.read_csv(f'/content/data/test/test_deals/1_{id}.csv'))\n",
    "# test_deals = pd.concat(test_deals_list, axis=0, join='outer', ignore_index=False, keys=ids)\n",
    "\n",
    "distr_tables = pd.DataFrame({'id' : ids, \n",
    "                             'count_tables' : list_cnt_tables, \n",
    "                             })\n",
    "\n",
    "distr_tables"
   ]
  },
  {
   "cell_type": "code",
   "execution_count": null,
   "metadata": {
    "colab": {
     "base_uri": "https://localhost:8080/",
     "height": 237
    },
    "id": "oR6N8_CSGXm8",
    "outputId": "ea36dbef-c7bc-4fc4-ba6c-22f446a1bfa5"
   },
   "outputs": [],
   "source": [
    "test_additional_info_id_account_condition.head()"
   ]
  },
  {
   "cell_type": "code",
   "execution_count": null,
   "metadata": {
    "colab": {
     "base_uri": "https://localhost:8080/"
    },
    "id": "cZaqGuqtOjSx",
    "outputId": "2c8bf5a5-f422-41d3-e89f-862d0c6e4988"
   },
   "outputs": [],
   "source": [
    "# много пропусков\n",
    "test_additional_info_id_account_condition.info()"
   ]
  },
  {
   "cell_type": "code",
   "execution_count": null,
   "metadata": {
    "colab": {
     "base_uri": "https://localhost:8080/"
    },
    "id": "vwikTKp2VdAL",
    "outputId": "f984f335-0505-49e3-b287-3809a99b942c"
   },
   "outputs": [],
   "source": [
    "# много пропусков\n",
    "test_additional_info_id_reference_point.info()"
   ]
  },
  {
   "cell_type": "code",
   "execution_count": null,
   "metadata": {
    "colab": {
     "base_uri": "https://localhost:8080/"
    },
    "id": "dvMe2PA6Vmyo",
    "outputId": "68aca910-0804-4cef-ddbd-e88df43dcda2"
   },
   "outputs": [],
   "source": [
    "# много пропусков\n",
    "test_additional_info_id_stats_table.info()"
   ]
  },
  {
   "cell_type": "code",
   "execution_count": null,
   "metadata": {
    "colab": {
     "base_uri": "https://localhost:8080/",
     "height": 1000
    },
    "id": "JunDoWo3Z2-4",
    "outputId": "cf02e4df-6f2c-4030-e88c-a1816e02d773"
   },
   "outputs": [],
   "source": [
    "test_additional_info_id_account_condition.sum(level='id')"
   ]
  }
 ],
 "metadata": {
  "colab": {
   "provenance": []
  },
  "kernelspec": {
   "display_name": "Python 3 (ipykernel)",
   "language": "python",
   "name": "python3"
  },
  "language_info": {
   "codemirror_mode": {
    "name": "ipython",
    "version": 3
   },
   "file_extension": ".py",
   "mimetype": "text/x-python",
   "name": "python",
   "nbconvert_exporter": "python",
   "pygments_lexer": "ipython3",
   "version": "3.9.7"
  }
 },
 "nbformat": 4,
 "nbformat_minor": 4
}

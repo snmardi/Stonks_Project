{
 "cells": [
  {
   "attachments": {},
   "cell_type": "markdown",
   "metadata": {},
   "source": [
    "# Скачивание библиотек"
   ]
  },
  {
   "cell_type": "code",
   "execution_count": 1,
   "metadata": {
    "id": "oVVxE1xD0iYu"
   },
   "outputs": [],
   "source": [
    "import zipfile\n",
    "import os\n",
    "import shutil\n",
    "import pandas as pd\n",
    "import functools\n",
    "import numpy as np\n",
    "\n",
    "from catboost import CatBoostClassifier\n",
    "from sklearn.model_selection import GridSearchCV, train_test_split\n",
    "from sklearn.model_selection import RandomizedSearchCV\n",
    "\n",
    "from sklearn.metrics import mean_squared_error\n",
    "from sklearn.metrics import f1_score"
   ]
  },
  {
   "attachments": {},
   "cell_type": "markdown",
   "metadata": {},
   "source": [
    "# Чтение и обработка данных"
   ]
  },
  {
   "cell_type": "code",
   "execution_count": 2,
   "metadata": {
    "id": "IBsJ4je70iYx"
   },
   "outputs": [],
   "source": [
    "#Разархивирование, не запускать если папка data уже существует\n",
    "with zipfile.ZipFile(f'data.zip', 'r') as zipFile:\n",
    "    zipFile.extractall()\n",
    "shutil.rmtree('__MACOSX')\n",
    "for mode in ['train', 'test']:\n",
    "    dealsList = os.listdir(f'data/{mode}/{mode}_deals')\n",
    "    for deals in dealsList:\n",
    "        with zipfile.ZipFile(f'data/{mode}/{mode}_deals/{deals}', 'r') as zipFile:\n",
    "            zipFile.extractall(f'data/{mode}/{mode}_deals')\n",
    "        os.remove(f'data/{mode}/{mode}_deals/{deals}')"
   ]
  },
  {
   "cell_type": "code",
   "execution_count": 3,
   "metadata": {
    "colab": {
     "base_uri": "https://localhost:8080/"
    },
    "id": "YCpgYcYb0iYx",
    "outputId": "b52096a4-766c-4bed-ddf8-984364af8e48"
   },
   "outputs": [
    {
     "name": "stderr",
     "output_type": "stream",
     "text": [
      "C:\\Users\\Сиин Мардахаев\\AppData\\Local\\Temp\\ipykernel_14684\\2607901155.py:6: SettingWithCopyWarning: \n",
      "A value is trying to be set on a copy of a slice from a DataFrame\n",
      "\n",
      "See the caveats in the documentation: https://pandas.pydata.org/pandas-docs/stable/user_guide/indexing.html#returning-a-view-versus-a-copy\n",
      "  main['income_percent'].loc[main['income_percent'] == '-'] = np.nan\n",
      "C:\\Users\\Сиин Мардахаев\\AppData\\Local\\Temp\\ipykernel_14684\\2607901155.py:6: SettingWithCopyWarning: \n",
      "A value is trying to be set on a copy of a slice from a DataFrame\n",
      "\n",
      "See the caveats in the documentation: https://pandas.pydata.org/pandas-docs/stable/user_guide/indexing.html#returning-a-view-versus-a-copy\n",
      "  main['income_percent'].loc[main['income_percent'] == '-'] = np.nan\n"
     ]
    }
   ],
   "source": [
    "for mode in ['train', 'test']:\n",
    "    main = pd.read_csv(f'data/{mode}/{mode}.csv', sep = ',')\n",
    "    for clmn in ['start_sum', 'income_rub', 'income_percent']:\n",
    "        main[clmn] = pd.Series.str(main[clmn]).replace(',', '.')\n",
    "        main[clmn] = pd.Series.str(main[clmn]).replace(' ', '')\n",
    "    main['income_percent'].loc[main['income_percent'] == '-'] = np.nan\n",
    "    main = main.astype({'start_sum': 'float', 'income_rub': 'float', 'income_percent': 'float'})\n",
    "    os.remove(f'data/{mode}/{mode}.csv')\n",
    "    main.to_csv(f'data/{mode}/{mode}.csv', index = False)"
   ]
  },
  {
   "cell_type": "code",
   "execution_count": 4,
   "metadata": {
    "id": "S4G4gjPq0iYy"
   },
   "outputs": [],
   "source": [
    "def formatAccountCondition (id: int, mode: str):\n",
    "  try:\n",
    "    account_condition = pd.read_csv(f'data/{mode}/{mode}_additional_info/id_{id}/account_condition_{id}.csv', sep = ';', index_col = 0)\n",
    "  except FileNotFoundError:\n",
    "    print('No such file for id', id)\n",
    "    return None\n",
    "  account_condition['date'] = pd.to_datetime(account_condition['date'], format='%Y-%m-%d')\n",
    "  for clmn in ['start_sum', 'warranty_provision', 'free_funds']:\n",
    "    account_condition[clmn].loc[account_condition[clmn] == '-'] = np.nan\n",
    "    if account_condition[clmn].isna().sum() != account_condition.shape[0]:\n",
    "      account_condition[[clmn, f'{clmn}_delt']] = account_condition[clmn].str.split('(', expand = True)\n",
    "      account_condition[f'{clmn}_delt'] = account_condition[f'{clmn}_delt'].str.replace(')', '')\n",
    "      account_condition[f'{clmn}_delt'] = account_condition[f'{clmn}_delt'].str.replace('+', '')\n",
    "      account_condition[f'{clmn}_delt'].loc[account_condition[f'{clmn}_delt'] == '-'] = np.nan\n",
    "    else:\n",
    "      account_condition[f'{clmn}_delt'] = np.nan\n",
    "  account_condition = account_condition.astype({'start_sum': 'float', 'warranty_provision': 'float', 'free_funds': 'float', 'start_sum_delt': 'float', 'warranty_provision_delt': 'float', 'free_funds_delt': 'float'})\n",
    "  os.remove(f'data/{mode}/{mode}_additional_info/id_{id}/account_condition_{id}.csv')\n",
    "  account_condition.to_csv(f'data/{mode}/{mode}_additional_info/id_{id}/account_condition_{id}.csv')\n",
    "  return account_condition\n",
    "  "
   ]
  },
  {
   "cell_type": "code",
   "execution_count": 5,
   "metadata": {
    "id": "bet9uzzY0iYz"
   },
   "outputs": [],
   "source": [
    "def formatReferencePoint (id: int, mode: str):\n",
    "  try:\n",
    "    reference_point = pd.read_csv(f'data/{mode}/{mode}_additional_info/id_{id}/reference_point_{id}.csv', sep = ';', index_col = 0)\n",
    "  except FileNotFoundError:\n",
    "    print('No such file for id', id)\n",
    "    return None\n",
    "  for clmn in ['market', 'ticker', 'open_positions', 'price', 'end_day_balance', 'estimated_cost']:\n",
    "    reference_point[clmn].loc[reference_point[clmn] == '-'] = np.nan\n",
    "  if reference_point['open_positions'].isna().sum() != reference_point.shape[0]:\n",
    "    reference_point[['open_positions', 'open_positions_delt']] = reference_point['open_positions'].str.split('(', expand = True)\n",
    "    reference_point['open_positions_delt'] = reference_point['open_positions_delt'].str.replace(')', '')\n",
    "    reference_point['open_positions_delt'] = reference_point['open_positions_delt'].str.replace('+', '')\n",
    "    reference_point['open_positions_delt'].loc[reference_point['open_positions_delt'] == '-'] = np.nan\n",
    "  else:\n",
    "    reference_point['open_positions_delt'] = np.nan\n",
    "  reference_point = reference_point.astype({'open_positions': 'float', 'price': 'float', 'end_day_balance': 'float', 'estimated_cost': 'float'})\n",
    "  os.remove(f'data/{mode}/{mode}_additional_info/id_{id}/reference_point_{id}.csv')\n",
    "  reference_point.to_csv(f'data/{mode}/{mode}_additional_info/id_{id}/reference_point_{id}.csv')\n",
    "  return reference_point"
   ]
  },
  {
   "cell_type": "code",
   "execution_count": 6,
   "metadata": {
    "id": "ty_7yUIg0iYz"
   },
   "outputs": [],
   "source": [
    "def addNamesToDeals (id: int, market: int, mode: str):\n",
    "    try:\n",
    "        deals = pd.read_csv(f'data/{mode}/{mode}_deals/{market}_{id}.csv', names = [\"datetime\", \"ticker\", \"quantity\", \"summ\"], sep = ';')\n",
    "    except FileNotFoundError:\n",
    "        print('No such file for id', id)\n",
    "        return None\n",
    "    os.remove(f'data/{mode}/{mode}_deals/{market}_{id}.csv')\n",
    "    deals.to_csv(f'data/{mode}/{mode}_deals/{market}_{id}.csv')\n",
    "    return None"
   ]
  },
  {
   "cell_type": "code",
   "execution_count": null,
   "metadata": {
    "colab": {
     "base_uri": "https://localhost:8080/"
    },
    "id": "Lw6yJErK0iYz",
    "outputId": "39063109-6342-489e-8c51-37262ea8fef1"
   },
   "outputs": [],
   "source": [
    "for mode in ['train', 'test']:\n",
    "    main = pd.read_csv(f'data/{mode}/{mode}.csv', sep = ',')\n",
    "    ids = main['id']\n",
    "    for id in ids:\n",
    "        formatAccountCondition(id, mode)\n",
    "        formatReferencePoint(id, mode)\n",
    "        for i in range(1, 4):\n",
    "            addNamesToDeals(id, i, mode)"
   ]
  },
  {
   "cell_type": "code",
   "execution_count": 13,
   "metadata": {
    "id": "GGgiYEpoFy92"
   },
   "outputs": [],
   "source": [
    "# reading data\n",
    "train = pd.read_csv(f'data/train/train.csv', sep = ',')\n",
    "final_test = pd.read_csv(f'data/test/test.csv', sep = ',')"
   ]
  },
  {
   "cell_type": "code",
   "execution_count": 14,
   "metadata": {},
   "outputs": [
    {
     "data": {
      "text/html": [
       "<div>\n",
       "<style scoped>\n",
       "    .dataframe tbody tr th:only-of-type {\n",
       "        vertical-align: middle;\n",
       "    }\n",
       "\n",
       "    .dataframe tbody tr th {\n",
       "        vertical-align: top;\n",
       "    }\n",
       "\n",
       "    .dataframe thead th {\n",
       "        text-align: right;\n",
       "    }\n",
       "</style>\n",
       "<table border=\"1\" class=\"dataframe\">\n",
       "  <thead>\n",
       "    <tr style=\"text-align: right;\">\n",
       "      <th></th>\n",
       "      <th>id</th>\n",
       "      <th>nickname</th>\n",
       "      <th>broker</th>\n",
       "      <th>start_sum</th>\n",
       "      <th>request</th>\n",
       "      <th>deals</th>\n",
       "      <th>income_rub</th>\n",
       "      <th>income_percent</th>\n",
       "      <th>class</th>\n",
       "    </tr>\n",
       "  </thead>\n",
       "  <tbody>\n",
       "    <tr>\n",
       "      <th>0</th>\n",
       "      <td>311613</td>\n",
       "      <td>pas55</td>\n",
       "      <td>АО «Открытие Брокер»</td>\n",
       "      <td>264530.00</td>\n",
       "      <td>2081</td>\n",
       "      <td>934</td>\n",
       "      <td>58101.51</td>\n",
       "      <td>21.96</td>\n",
       "      <td>1</td>\n",
       "    </tr>\n",
       "    <tr>\n",
       "      <th>1</th>\n",
       "      <td>311209</td>\n",
       "      <td>ГеоргиевДИ</td>\n",
       "      <td>АО «Открытие Брокер»</td>\n",
       "      <td>103693.18</td>\n",
       "      <td>439</td>\n",
       "      <td>805</td>\n",
       "      <td>11351.71</td>\n",
       "      <td>10.95</td>\n",
       "      <td>2</td>\n",
       "    </tr>\n",
       "    <tr>\n",
       "      <th>2</th>\n",
       "      <td>313350</td>\n",
       "      <td>Черненко</td>\n",
       "      <td>АО «ФИНАМ»</td>\n",
       "      <td>951481.94</td>\n",
       "      <td>636</td>\n",
       "      <td>938</td>\n",
       "      <td>-23613.53</td>\n",
       "      <td>-2.48</td>\n",
       "      <td>2</td>\n",
       "    </tr>\n",
       "    <tr>\n",
       "      <th>3</th>\n",
       "      <td>310145</td>\n",
       "      <td>IgorM_Ufa</td>\n",
       "      <td>АО «ФИНАМ»</td>\n",
       "      <td>660000.00</td>\n",
       "      <td>932</td>\n",
       "      <td>1072</td>\n",
       "      <td>-198473.31</td>\n",
       "      <td>-30.07</td>\n",
       "      <td>5</td>\n",
       "    </tr>\n",
       "    <tr>\n",
       "      <th>4</th>\n",
       "      <td>310555</td>\n",
       "      <td>Dmitry</td>\n",
       "      <td>ООО «Компания БКС»</td>\n",
       "      <td>116025.00</td>\n",
       "      <td>46</td>\n",
       "      <td>44</td>\n",
       "      <td>-4187.62</td>\n",
       "      <td>-3.61</td>\n",
       "      <td>3</td>\n",
       "    </tr>\n",
       "    <tr>\n",
       "      <th>...</th>\n",
       "      <td>...</td>\n",
       "      <td>...</td>\n",
       "      <td>...</td>\n",
       "      <td>...</td>\n",
       "      <td>...</td>\n",
       "      <td>...</td>\n",
       "      <td>...</td>\n",
       "      <td>...</td>\n",
       "      <td>...</td>\n",
       "    </tr>\n",
       "    <tr>\n",
       "      <th>1521</th>\n",
       "      <td>311890</td>\n",
       "      <td>GAGARIN</td>\n",
       "      <td>АО «Открытие Брокер»</td>\n",
       "      <td>244683.00</td>\n",
       "      <td>92</td>\n",
       "      <td>119</td>\n",
       "      <td>-14209.94</td>\n",
       "      <td>-5.81</td>\n",
       "      <td>2</td>\n",
       "    </tr>\n",
       "    <tr>\n",
       "      <th>1522</th>\n",
       "      <td>313159</td>\n",
       "      <td>uliya_35</td>\n",
       "      <td>АО «ФИНАМ»</td>\n",
       "      <td>100000.00</td>\n",
       "      <td>289</td>\n",
       "      <td>286</td>\n",
       "      <td>-1494.68</td>\n",
       "      <td>-1.49</td>\n",
       "      <td>5</td>\n",
       "    </tr>\n",
       "    <tr>\n",
       "      <th>1524</th>\n",
       "      <td>310108</td>\n",
       "      <td>marskaia_</td>\n",
       "      <td>ООО «АЛОР +»</td>\n",
       "      <td>100000.00</td>\n",
       "      <td>159</td>\n",
       "      <td>41</td>\n",
       "      <td>-384.07</td>\n",
       "      <td>-0.38</td>\n",
       "      <td>5</td>\n",
       "    </tr>\n",
       "    <tr>\n",
       "      <th>1525</th>\n",
       "      <td>310840</td>\n",
       "      <td>Gold69</td>\n",
       "      <td>ООО «Компания БКС»</td>\n",
       "      <td>100000.00</td>\n",
       "      <td>3</td>\n",
       "      <td>10</td>\n",
       "      <td>-572.86</td>\n",
       "      <td>-0.57</td>\n",
       "      <td>3</td>\n",
       "    </tr>\n",
       "    <tr>\n",
       "      <th>1526</th>\n",
       "      <td>312664</td>\n",
       "      <td>Dofin</td>\n",
       "      <td>ООО «Компания БКС»</td>\n",
       "      <td>316596.00</td>\n",
       "      <td>59</td>\n",
       "      <td>90</td>\n",
       "      <td>-49102.09</td>\n",
       "      <td>-15.51</td>\n",
       "      <td>5</td>\n",
       "    </tr>\n",
       "  </tbody>\n",
       "</table>\n",
       "<p>1222 rows × 9 columns</p>\n",
       "</div>"
      ],
      "text/plain": [
       "          id    nickname                broker  start_sum  request  deals   \n",
       "0     311613       pas55  АО «Открытие Брокер»  264530.00     2081    934  \\\n",
       "1     311209  ГеоргиевДИ  АО «Открытие Брокер»  103693.18      439    805   \n",
       "2     313350    Черненко            АО «ФИНАМ»  951481.94      636    938   \n",
       "3     310145   IgorM_Ufa            АО «ФИНАМ»  660000.00      932   1072   \n",
       "4     310555      Dmitry    ООО «Компания БКС»  116025.00       46     44   \n",
       "...      ...         ...                   ...        ...      ...    ...   \n",
       "1521  311890     GAGARIN  АО «Открытие Брокер»  244683.00       92    119   \n",
       "1522  313159    uliya_35            АО «ФИНАМ»  100000.00      289    286   \n",
       "1524  310108   marskaia_          ООО «АЛОР +»  100000.00      159     41   \n",
       "1525  310840      Gold69    ООО «Компания БКС»  100000.00        3     10   \n",
       "1526  312664       Dofin    ООО «Компания БКС»  316596.00       59     90   \n",
       "\n",
       "      income_rub  income_percent  class  \n",
       "0       58101.51           21.96      1  \n",
       "1       11351.71           10.95      2  \n",
       "2      -23613.53           -2.48      2  \n",
       "3     -198473.31          -30.07      5  \n",
       "4       -4187.62           -3.61      3  \n",
       "...          ...             ...    ...  \n",
       "1521   -14209.94           -5.81      2  \n",
       "1522    -1494.68           -1.49      5  \n",
       "1524     -384.07           -0.38      5  \n",
       "1525     -572.86           -0.57      3  \n",
       "1526   -49102.09          -15.51      5  \n",
       "\n",
       "[1222 rows x 9 columns]"
      ]
     },
     "execution_count": 14,
     "metadata": {},
     "output_type": "execute_result"
    }
   ],
   "source": [
    "columns = ['start_sum', 'income_percent', 'deals']\n",
    "\n",
    "# Словари для хранения нижних и верхних границ для каждого столбца\n",
    "lower_bounds = {}\n",
    "upper_bounds = {}\n",
    "\n",
    "# Вычисление нижних и верхних границ для каждого столбца\n",
    "for col in columns:\n",
    "    Q1 = train[col].quantile(0.2)\n",
    "    Q3 = train[col].quantile(0.8)\n",
    "    IQR = Q3 - Q1\n",
    "    lower_bound = Q1 - 1.5 * IQR\n",
    "    upper_bound = Q3 + 1.5 * IQR\n",
    "    lower_bounds[col] = lower_bound\n",
    "    upper_bounds[col] = upper_bound\n",
    "\n",
    "# Создаем фильтр для удаления выбросов по вычисленным границам\n",
    "mask = pd.Series(True, index=train.index)\n",
    "for col in columns:\n",
    "    mask = mask & (train[col] >= lower_bounds[col]) & (train[col] <= upper_bounds[col])\n",
    "\n",
    "# Применяем фильтр к датафрейму\n",
    "df_filtered = train[mask]\n",
    "train = df_filtered\n",
    "train"
   ]
  },
  {
   "attachments": {},
   "cell_type": "markdown",
   "metadata": {},
   "source": [
    "# Обучение моделей"
   ]
  },
  {
   "cell_type": "code",
   "execution_count": null,
   "metadata": {
    "colab": {
     "base_uri": "https://localhost:8080/"
    },
    "id": "sb9KPnSDGkxa",
    "outputId": "b02335e3-fd02-4a53-a18e-f5288518c441"
   },
   "outputs": [],
   "source": [
    "# splitting train on train and test sets\n",
    "X = train.drop([\"class\", \"nickname\", \"id\"], 1)\n",
    "y = train[\"class\"]\n",
    "X_train, X_test, y_train, y_test = train_test_split(X, y, random_state=42, train_size = 0.75)"
   ]
  },
  {
   "attachments": {},
   "cell_type": "markdown",
   "metadata": {},
   "source": [
    "СatBoostСlassifier "
   ]
  },
  {
   "cell_type": "code",
   "execution_count": null,
   "metadata": {
    "colab": {
     "base_uri": "https://localhost:8080/"
    },
    "id": "AarBIOGy7Fu2",
    "outputId": "688f6f6d-05bc-4787-9213-100b9d1ecea8"
   },
   "outputs": [],
   "source": [
    "%%time\n",
    "\n",
    "cat_columns = X_train.select_dtypes(include=['object']).columns\n",
    "model = CatBoostClassifier(cat_features = [cat_columns[0]], verbose=0, loss_function='MultiClass')\n",
    "\n",
    "param_grid = {'iterations': [100, 500],\n",
    "              'learning_rate': [0.01, 0.05, 0.1],\n",
    "              'depth': [4, 5, 7], \n",
    "              \"l2_leaf_reg\": [0.5, 1, 4, 8]}\n",
    "\n",
    "grid_search = RandomizedSearchCV(estimator=model, \n",
    "                                 param_distributions=param_grid, \n",
    "                                 cv=5, \n",
    "                                 scoring='accuracy', \n",
    "                                 error_score='raise', \n",
    "                                 n_iter=15)\n",
    "\n",
    "grid_search.fit(X_train, y_train, cat_features = [cat_columns[0]])\n",
    "\n",
    "print(\"Best Parameters: \", grid_search.best_params_)\n",
    "print(\"Best CV Score: \", grid_search.best_score_)"
   ]
  },
  {
   "cell_type": "code",
   "execution_count": null,
   "metadata": {
    "colab": {
     "base_uri": "https://localhost:8080/"
    },
    "id": "I4sARs7FuKhG",
    "outputId": "3c560003-0c4e-43e8-83e2-8db5282b3262"
   },
   "outputs": [],
   "source": [
    "results = grid_search.cv_results_\n",
    "results['mean_test_score']"
   ]
  },
  {
   "attachments": {},
   "cell_type": "markdown",
   "metadata": {},
   "source": [
    "Метрики"
   ]
  },
  {
   "cell_type": "code",
   "execution_count": null,
   "metadata": {},
   "outputs": [],
   "source": [
    "def metrics(y_true, y_pred):\n",
    "    rmse = mean_squared_error(y_true, y_pred, squared=False)\n",
    "    f1 = f1_score(y_true, y_pred, average = 'micro')\n",
    "    return f\"\\nrmse: {rmse}\\nf1score: {f1} \\n\""
   ]
  },
  {
   "cell_type": "code",
   "execution_count": null,
   "metadata": {},
   "outputs": [],
   "source": [
    "cbc = grid_search.best_estimator_\n",
    "y_pred_ts = cbc.predict(X_test)\n",
    "y_pred_tr = cbc.predict(X_train)\n",
    "\n",
    "print(f\"TRAIN: {metrics(y_train, y_pred_tr)}\\nTEST: {metrics(y_test, y_pred_ts)}\")"
   ]
  },
  {
   "attachments": {},
   "cell_type": "markdown",
   "metadata": {
    "id": "JtxMZXI1JUuw"
   },
   "source": [
    "# Мусорка"
   ]
  },
  {
   "cell_type": "code",
   "execution_count": null,
   "metadata": {
    "colab": {
     "base_uri": "https://localhost:8080/",
     "height": 423
    },
    "id": "NjVOSOkExL-J",
    "outputId": "f1d8e683-4e34-4496-8155-a301e73e3500"
   },
   "outputs": [],
   "source": [
    "test_additional_info_id_account_condition_list = []\n",
    "test_additional_info_id_reference_point_list = []\n",
    "test_additional_info_id_stats_table_list = []\n",
    "test_deals_list = []\n",
    "\n",
    "account_condition_list = []\n",
    "reference_point_list = []\n",
    "stats_table_list = []\n",
    "test_deals_list = []\n",
    "list_cnt_tables = []\n",
    "\n",
    "main = pd.read_csv(f'/content/data/test/test.csv', sep = ',')\n",
    "ids = main['id']\n",
    "\n",
    "cnt_tables = 0\n",
    "for id in ids:\n",
    "  test_additional_info_id_account_condition_list.append(pd.read_csv(f'/content/data/test/test_additional_info/id_{id}/account_condition_{id}.csv'))\n",
    "  test_additional_info_id_reference_point_list.append(pd.read_csv(f'/content/data/test/test_additional_info/id_{id}/reference_point_{id}.csv'))\n",
    "  test_additional_info_id_stats_table_list.append(pd.read_csv(f'/content/data/test/test_additional_info/id_{id}/stats_table_{id}.csv', sep=';'))\n",
    "  if not (pd.read_csv(f'/content/data/test/test_additional_info/id_{id}/account_condition_{id}.csv').empty):\n",
    "    account_condition_list.append(1)\n",
    "    cnt_tables += 1\n",
    "  if not (pd.read_csv(f'/content/data/test/test_additional_info/id_{id}/reference_point_{id}.csv').empty):\n",
    "    reference_point_list.append(1)\n",
    "    cnt_tables += 1\n",
    "  if not (pd.read_csv(f'/content/data/test/test_additional_info/id_{id}/stats_table_{id}.csv').empty):\n",
    "    test_deals_list.append(1)\n",
    "    cnt_tables += 1\n",
    "  list_cnt_tables.append(cnt_tables)\n",
    "  cnt_tables = 0\n",
    "\n",
    "test_additional_info_id_account_condition = pd.concat(test_additional_info_id_account_condition_list, axis=0, join='outer', ignore_index=False, keys=ids)\n",
    "test_additional_info_id_reference_point = pd.concat(test_additional_info_id_reference_point_list, axis=0, join='outer', ignore_index=False, keys=ids)\n",
    "test_additional_info_id_stats_table = pd.concat(test_additional_info_id_stats_table_list, axis=0, join='outer', ignore_index=False, keys=ids)\n",
    "\n",
    "# for id in ids:\n",
    "#   test_deals_list.append(pd.read_csv(f'/content/data/test/test_deals/1_{id}.csv'))\n",
    "# test_deals = pd.concat(test_deals_list, axis=0, join='outer', ignore_index=False, keys=ids)\n",
    "\n",
    "distr_tables = pd.DataFrame({'id' : ids, \n",
    "                             'count_tables' : list_cnt_tables, \n",
    "                             })\n",
    "\n",
    "distr_tables"
   ]
  },
  {
   "cell_type": "code",
   "execution_count": null,
   "metadata": {
    "colab": {
     "base_uri": "https://localhost:8080/",
     "height": 237
    },
    "id": "oR6N8_CSGXm8",
    "outputId": "ea36dbef-c7bc-4fc4-ba6c-22f446a1bfa5"
   },
   "outputs": [],
   "source": [
    "test_additional_info_id_account_condition.head()"
   ]
  },
  {
   "cell_type": "code",
   "execution_count": null,
   "metadata": {
    "colab": {
     "base_uri": "https://localhost:8080/"
    },
    "id": "cZaqGuqtOjSx",
    "outputId": "2c8bf5a5-f422-41d3-e89f-862d0c6e4988"
   },
   "outputs": [],
   "source": [
    "# много пропусков\n",
    "test_additional_info_id_account_condition.info()"
   ]
  },
  {
   "cell_type": "code",
   "execution_count": null,
   "metadata": {
    "colab": {
     "base_uri": "https://localhost:8080/"
    },
    "id": "vwikTKp2VdAL",
    "outputId": "f984f335-0505-49e3-b287-3809a99b942c"
   },
   "outputs": [],
   "source": [
    "# много пропусков\n",
    "test_additional_info_id_reference_point.info()"
   ]
  },
  {
   "cell_type": "code",
   "execution_count": null,
   "metadata": {
    "colab": {
     "base_uri": "https://localhost:8080/"
    },
    "id": "dvMe2PA6Vmyo",
    "outputId": "68aca910-0804-4cef-ddbd-e88df43dcda2"
   },
   "outputs": [],
   "source": [
    "# много пропусков\n",
    "test_additional_info_id_stats_table.info()"
   ]
  },
  {
   "cell_type": "code",
   "execution_count": null,
   "metadata": {
    "colab": {
     "base_uri": "https://localhost:8080/",
     "height": 1000
    },
    "id": "JunDoWo3Z2-4",
    "outputId": "cf02e4df-6f2c-4030-e88c-a1816e02d773"
   },
   "outputs": [],
   "source": [
    "test_additional_info_id_account_condition.sum(level='id')"
   ]
  }
 ],
 "metadata": {
  "colab": {
   "provenance": []
  },
  "kernelspec": {
   "display_name": "Python 3 (ipykernel)",
   "language": "python",
   "name": "python3"
  },
  "language_info": {
   "codemirror_mode": {
    "name": "ipython",
    "version": 3
   },
   "file_extension": ".py",
   "mimetype": "text/x-python",
   "name": "python",
   "nbconvert_exporter": "python",
   "pygments_lexer": "ipython3",
   "version": "3.11.3"
  }
 },
 "nbformat": 4,
 "nbformat_minor": 1
}

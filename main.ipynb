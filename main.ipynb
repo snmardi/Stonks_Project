{
 "cells": [
  {
   "cell_type": "markdown",
   "metadata": {},
   "source": [
    "# Скачивание библиотек"
   ]
  },
  {
   "cell_type": "code",
   "execution_count": 1,
   "metadata": {
    "colab": {
     "base_uri": "https://localhost:8080/"
    },
    "id": "-hDeFxQSF5cy",
    "outputId": "b750e7d6-e2b9-4f60-b92d-8521ad7effcb"
   },
   "outputs": [
    {
     "name": "stdout",
     "output_type": "stream",
     "text": [
      "Collecting catboost\n",
      "  Using cached catboost-1.2-cp39-cp39-win_amd64.whl (101.0 MB)\n",
      "Requirement already satisfied: numpy>=1.16.0 in c:\\users\\pasin\\anaconda3\\lib\\site-packages (from catboost) (1.20.3)\n",
      "Requirement already satisfied: matplotlib in c:\\users\\pasin\\anaconda3\\lib\\site-packages (from catboost) (3.4.3)\n",
      "Requirement already satisfied: scipy in c:\\users\\pasin\\anaconda3\\lib\\site-packages (from catboost) (1.7.1)\n",
      "Requirement already satisfied: pandas>=0.24 in c:\\users\\pasin\\anaconda3\\lib\\site-packages (from catboost) (1.3.4)\n",
      "Collecting graphviz\n",
      "  Using cached graphviz-0.20.1-py3-none-any.whl (47 kB)\n",
      "Requirement already satisfied: plotly in c:\\users\\pasin\\anaconda3\\lib\\site-packages (from catboost) (5.14.1)\n",
      "Requirement already satisfied: six in c:\\users\\pasin\\anaconda3\\lib\\site-packages (from catboost) (1.16.0)\n",
      "Requirement already satisfied: python-dateutil>=2.7.3 in c:\\users\\pasin\\anaconda3\\lib\\site-packages (from pandas>=0.24->catboost) (2.8.2)\n",
      "Requirement already satisfied: pytz>=2017.3 in c:\\users\\pasin\\anaconda3\\lib\\site-packages (from pandas>=0.24->catboost) (2021.3)\n",
      "Requirement already satisfied: pillow>=6.2.0 in c:\\users\\pasin\\anaconda3\\lib\\site-packages (from matplotlib->catboost) (8.4.0)\n",
      "Requirement already satisfied: kiwisolver>=1.0.1 in c:\\users\\pasin\\anaconda3\\lib\\site-packages (from matplotlib->catboost) (1.3.1)\n",
      "Requirement already satisfied: cycler>=0.10 in c:\\users\\pasin\\anaconda3\\lib\\site-packages (from matplotlib->catboost) (0.10.0)\n",
      "Requirement already satisfied: pyparsing>=2.2.1 in c:\\users\\pasin\\anaconda3\\lib\\site-packages (from matplotlib->catboost) (3.0.4)\n",
      "Requirement already satisfied: packaging in c:\\users\\pasin\\anaconda3\\lib\\site-packages (from plotly->catboost) (21.0)\n",
      "Requirement already satisfied: tenacity>=6.2.0 in c:\\users\\pasin\\anaconda3\\lib\\site-packages (from plotly->catboost) (8.2.2)\n",
      "Installing collected packages: graphviz, catboost\n",
      "Successfully installed catboost-1.2 graphviz-0.20.1\n"
     ]
    }
   ],
   "source": [
    "!pip install catboost"
   ]
  },
  {
   "cell_type": "code",
   "execution_count": 1,
   "metadata": {
    "id": "oVVxE1xD0iYu"
   },
   "outputs": [],
   "source": [
    "import zipfile\n",
    "import os\n",
    "import shutil\n",
    "import pandas as pd\n",
    "import numpy as np\n",
    "\n",
    "from catboost import CatBoostClassifier\n",
    "from sklearn.model_selection import GridSearchCV, train_test_split\n",
    "from sklearn.model_selection import RandomizedSearchCV\n",
    "\n",
    "from sklearn.metrics import mean_squared_error\n",
    "from sklearn.metrics import f1_score"
   ]
  },
  {
   "cell_type": "markdown",
   "metadata": {},
   "source": [
    "# Чтение и обработка данных"
   ]
  },
  {
   "cell_type": "code",
   "execution_count": 2,
   "metadata": {
    "id": "e-SAMuiy0iYw"
   },
   "outputs": [],
   "source": [
    "DIRECTORY = 'C:/Users/pasin/DS/Лаба/РискПрофиль/'"
   ]
  },
  {
   "cell_type": "code",
   "execution_count": 3,
   "metadata": {
    "colab": {
     "base_uri": "https://localhost:8080/"
    },
    "id": "483NgqIj0iYw",
    "outputId": "640ab235-5808-468e-b24b-4f17dff0bfd6"
   },
   "outputs": [],
   "source": [
    "# #Для Google Drive\n",
    "# from google.colab import drive\n",
    "# drive.mount('/content/drive')"
   ]
  },
  {
   "cell_type": "code",
   "execution_count": null,
   "metadata": {
    "id": "IBsJ4je70iYx"
   },
   "outputs": [],
   "source": [
    "#Разархивирование, не запускать если папка data уже существует\n",
    "with zipfile.ZipFile(f'{DIRECTORY}data.zip', 'r') as zipFile:\n",
    "    zipFile.extractall(DIRECTORY)\n",
    "shutil.rmtree('__MACOSX')\n",
    "for mode in ['train', 'test']:\n",
    "    dealsList = os.listdir(f'{DIRECTORY}data/{mode}/{mode}_deals')\n",
    "    for deals in dealsList:\n",
    "        with zipfile.ZipFile(f'{DIRECTORY}data/{mode}/{mode}_deals/{deals}', 'r') as zipFile:\n",
    "            zipFile.extractall(f'{DIRECTORY}data/{mode}/{mode}_deals')\n",
    "        os.remove(f'{DIRECTORY}data/{mode}/{mode}_deals/{deals}')"
   ]
  },
  {
   "cell_type": "code",
   "execution_count": null,
   "metadata": {
    "colab": {
     "base_uri": "https://localhost:8080/"
    },
    "id": "YCpgYcYb0iYx",
    "outputId": "b52096a4-766c-4bed-ddf8-984364af8e48"
   },
   "outputs": [],
   "source": [
    "for mode in ['train', 'test']:\n",
    "    main = pd.read_csv(f'{DIRECTORY}data/{mode}/{mode}.csv', sep = ',')\n",
    "    for clmn in ['start_sum', 'income_rub', 'income_percent']:\n",
    "        main[clmn] = str(main[clmn]).replace(',', '.')\n",
    "        main[clmn] = str(main[clmn]).replace(' ', '')\n",
    "    main['income_percent'].loc[main['income_percent'] == '-'] = np.nan\n",
    "    main = main.astype({'start_sum': 'float', 'income_rub': 'float', 'income_percent': 'float'})\n",
    "    os.remove(f'{DIRECTORY}data/{mode}/{mode}.csv')\n",
    "    main.to_csv(f'{DIRECTORY}data/{mode}/{mode}.csv', index = False)"
   ]
  },
  {
   "cell_type": "code",
   "execution_count": 11,
   "metadata": {
    "id": "S4G4gjPq0iYy"
   },
   "outputs": [],
   "source": [
    "def formatAccountCondition (id: int, mode: str):\n",
    "  try:\n",
    "    account_condition = pd.read_csv(f'{DIRECTORY}data/{mode}/{mode}_additional_info/id_{id}/account_condition_{id}.csv', sep = ';', index_col = 0)\n",
    "  except FileNotFoundError:\n",
    "    print('No such file for id', id)\n",
    "    return None\n",
    "  account_condition['date'] = pd.to_datetime(account_condition['date'], format='%Y-%m-%d')\n",
    "  for clmn in ['start_sum', 'warranty_provision', 'free_funds']:\n",
    "    account_condition[clmn].loc[account_condition[clmn] == '-'] = np.nan\n",
    "    if account_condition[clmn].isna().sum() != account_condition.shape[0]:\n",
    "      account_condition[[clmn, f'{clmn}_delt']] = account_condition[clmn].str.split('(', expand = True)\n",
    "      account_condition[f'{clmn}_delt'] = account_condition[f'{clmn}_delt'].str.replace(')', '')\n",
    "      account_condition[f'{clmn}_delt'] = account_condition[f'{clmn}_delt'].str.replace('+', '')\n",
    "      account_condition[f'{clmn}_delt'].loc[account_condition[f'{clmn}_delt'] == '-'] = np.nan\n",
    "    else:\n",
    "      account_condition[f'{clmn}_delt'] = np.nan\n",
    "  account_condition = account_condition.astype({'start_sum': 'float', 'warranty_provision': 'float', 'free_funds': 'float', 'start_sum_delt': 'float', 'warranty_provision_delt': 'float', 'free_funds_delt': 'float'})\n",
    "  os.remove(f'{DIRECTORY}data/{mode}/{mode}_additional_info/id_{id}/account_condition_{id}.csv')\n",
    "  account_condition.to_csv(f'{DIRECTORY}data/{mode}/{mode}_additional_info/id_{id}/account_condition_{id}.csv')\n",
    "  return account_condition\n",
    "  "
   ]
  },
  {
   "cell_type": "code",
   "execution_count": 12,
   "metadata": {
    "id": "bet9uzzY0iYz"
   },
   "outputs": [],
   "source": [
    "def formatReferencePoint (id: int, mode: str):\n",
    "  try:\n",
    "    reference_point = pd.read_csv(f'{DIRECTORY}data/{mode}/{mode}_additional_info/id_{id}/reference_point_{id}.csv', sep = ';', index_col = 0)\n",
    "  except FileNotFoundError:\n",
    "    print('No such file for id', id)\n",
    "    return None\n",
    "  for clmn in ['market', 'ticker', 'open_positions', 'price', 'end_day_balance', 'estimated_cost']:\n",
    "    reference_point[clmn].loc[reference_point[clmn] == '-'] = np.nan\n",
    "  if reference_point['open_positions'].isna().sum() != reference_point.shape[0]:\n",
    "    reference_point[['open_positions', 'open_positions_delt']] = reference_point['open_positions'].str.split('(', expand = True)\n",
    "    reference_point['open_positions_delt'] = reference_point['open_positions_delt'].str.replace(')', '')\n",
    "    reference_point['open_positions_delt'] = reference_point['open_positions_delt'].str.replace('+', '')\n",
    "    reference_point['open_positions_delt'].loc[reference_point['open_positions_delt'] == '-'] = np.nan\n",
    "  else:\n",
    "    reference_point['open_positions_delt'] = np.nan\n",
    "  reference_point = reference_point.astype({'open_positions': 'float', 'price': 'float', 'end_day_balance': 'float', 'estimated_cost': 'float'})\n",
    "  os.remove(f'{DIRECTORY}data/{mode}/{mode}_additional_info/id_{id}/reference_point_{id}.csv')\n",
    "  reference_point.to_csv(f'{DIRECTORY}data/{mode}/{mode}_additional_info/id_{id}/reference_point_{id}.csv')\n",
    "  return reference_point"
   ]
  },
  {
   "cell_type": "code",
   "execution_count": 13,
   "metadata": {
    "id": "ty_7yUIg0iYz"
   },
   "outputs": [],
   "source": [
    "def addNamesToDeals (id: int, market: int, mode: str):\n",
    "    try:\n",
    "        deals = pd.read_csv(f'{DIRECTORY}data/{mode}/{mode}_deals/{market}_{id}.csv', names = [\"datetime\", \"ticker\", \"quantity\", \"summ\"], sep = ';')\n",
    "    except FileNotFoundError:\n",
    "        print('No such file for id', id)\n",
    "        return None\n",
    "    os.remove(f'{DIRECTORY}data/{mode}/{mode}_deals/{market}_{id}.csv')\n",
    "    deals.to_csv(f'{DIRECTORY}data/{mode}/{mode}_deals/{market}_{id}.csv')\n",
    "    return None"
   ]
  },
  {
   "cell_type": "code",
   "execution_count": 15,
   "metadata": {
    "colab": {
     "base_uri": "https://localhost:8080/"
    },
    "id": "Lw6yJErK0iYz",
    "outputId": "39063109-6342-489e-8c51-37262ea8fef1"
   },
   "outputs": [
    {
     "ename": "KeyError",
     "evalue": "'date'",
     "output_type": "error",
     "traceback": [
      "\u001b[1;31m---------------------------------------------------------------------------\u001b[0m",
      "\u001b[1;31mKeyError\u001b[0m                                  Traceback (most recent call last)",
      "\u001b[1;32m~\\anaconda3\\lib\\site-packages\\pandas\\core\\indexes\\base.py\u001b[0m in \u001b[0;36mget_loc\u001b[1;34m(self, key, method, tolerance)\u001b[0m\n\u001b[0;32m   3360\u001b[0m             \u001b[1;32mtry\u001b[0m\u001b[1;33m:\u001b[0m\u001b[1;33m\u001b[0m\u001b[1;33m\u001b[0m\u001b[0m\n\u001b[1;32m-> 3361\u001b[1;33m                 \u001b[1;32mreturn\u001b[0m \u001b[0mself\u001b[0m\u001b[1;33m.\u001b[0m\u001b[0m_engine\u001b[0m\u001b[1;33m.\u001b[0m\u001b[0mget_loc\u001b[0m\u001b[1;33m(\u001b[0m\u001b[0mcasted_key\u001b[0m\u001b[1;33m)\u001b[0m\u001b[1;33m\u001b[0m\u001b[1;33m\u001b[0m\u001b[0m\n\u001b[0m\u001b[0;32m   3362\u001b[0m             \u001b[1;32mexcept\u001b[0m \u001b[0mKeyError\u001b[0m \u001b[1;32mas\u001b[0m \u001b[0merr\u001b[0m\u001b[1;33m:\u001b[0m\u001b[1;33m\u001b[0m\u001b[1;33m\u001b[0m\u001b[0m\n",
      "\u001b[1;32m~\\anaconda3\\lib\\site-packages\\pandas\\_libs\\index.pyx\u001b[0m in \u001b[0;36mpandas._libs.index.IndexEngine.get_loc\u001b[1;34m()\u001b[0m\n",
      "\u001b[1;32m~\\anaconda3\\lib\\site-packages\\pandas\\_libs\\index.pyx\u001b[0m in \u001b[0;36mpandas._libs.index.IndexEngine.get_loc\u001b[1;34m()\u001b[0m\n",
      "\u001b[1;32mpandas\\_libs\\hashtable_class_helper.pxi\u001b[0m in \u001b[0;36mpandas._libs.hashtable.PyObjectHashTable.get_item\u001b[1;34m()\u001b[0m\n",
      "\u001b[1;32mpandas\\_libs\\hashtable_class_helper.pxi\u001b[0m in \u001b[0;36mpandas._libs.hashtable.PyObjectHashTable.get_item\u001b[1;34m()\u001b[0m\n",
      "\u001b[1;31mKeyError\u001b[0m: 'date'",
      "\nThe above exception was the direct cause of the following exception:\n",
      "\u001b[1;31mKeyError\u001b[0m                                  Traceback (most recent call last)",
      "\u001b[1;32m~\\AppData\\Local\\Temp/ipykernel_20432/3228106175.py\u001b[0m in \u001b[0;36m<module>\u001b[1;34m\u001b[0m\n\u001b[0;32m      3\u001b[0m     \u001b[0mids\u001b[0m \u001b[1;33m=\u001b[0m \u001b[0mmain\u001b[0m\u001b[1;33m[\u001b[0m\u001b[1;34m'id'\u001b[0m\u001b[1;33m]\u001b[0m\u001b[1;33m\u001b[0m\u001b[1;33m\u001b[0m\u001b[0m\n\u001b[0;32m      4\u001b[0m     \u001b[1;32mfor\u001b[0m \u001b[0mid\u001b[0m \u001b[1;32min\u001b[0m \u001b[0mids\u001b[0m\u001b[1;33m:\u001b[0m\u001b[1;33m\u001b[0m\u001b[1;33m\u001b[0m\u001b[0m\n\u001b[1;32m----> 5\u001b[1;33m         \u001b[0mformatAccountCondition\u001b[0m\u001b[1;33m(\u001b[0m\u001b[0mid\u001b[0m\u001b[1;33m,\u001b[0m \u001b[0mmode\u001b[0m\u001b[1;33m)\u001b[0m\u001b[1;33m\u001b[0m\u001b[1;33m\u001b[0m\u001b[0m\n\u001b[0m\u001b[0;32m      6\u001b[0m         \u001b[0mformatReferencePoint\u001b[0m\u001b[1;33m(\u001b[0m\u001b[0mid\u001b[0m\u001b[1;33m,\u001b[0m \u001b[0mmode\u001b[0m\u001b[1;33m)\u001b[0m\u001b[1;33m\u001b[0m\u001b[1;33m\u001b[0m\u001b[0m\n\u001b[0;32m      7\u001b[0m         \u001b[1;32mfor\u001b[0m \u001b[0mi\u001b[0m \u001b[1;32min\u001b[0m \u001b[0mrange\u001b[0m\u001b[1;33m(\u001b[0m\u001b[1;36m1\u001b[0m\u001b[1;33m,\u001b[0m \u001b[1;36m4\u001b[0m\u001b[1;33m)\u001b[0m\u001b[1;33m:\u001b[0m\u001b[1;33m\u001b[0m\u001b[1;33m\u001b[0m\u001b[0m\n",
      "\u001b[1;32m~\\AppData\\Local\\Temp/ipykernel_20432/44448804.py\u001b[0m in \u001b[0;36mformatAccountCondition\u001b[1;34m(id, mode)\u001b[0m\n\u001b[0;32m      5\u001b[0m     \u001b[0mprint\u001b[0m\u001b[1;33m(\u001b[0m\u001b[1;34m'No such file for id'\u001b[0m\u001b[1;33m,\u001b[0m \u001b[0mid\u001b[0m\u001b[1;33m)\u001b[0m\u001b[1;33m\u001b[0m\u001b[1;33m\u001b[0m\u001b[0m\n\u001b[0;32m      6\u001b[0m     \u001b[1;32mreturn\u001b[0m \u001b[1;32mNone\u001b[0m\u001b[1;33m\u001b[0m\u001b[1;33m\u001b[0m\u001b[0m\n\u001b[1;32m----> 7\u001b[1;33m   \u001b[0maccount_condition\u001b[0m\u001b[1;33m[\u001b[0m\u001b[1;34m'date'\u001b[0m\u001b[1;33m]\u001b[0m \u001b[1;33m=\u001b[0m \u001b[0mpd\u001b[0m\u001b[1;33m.\u001b[0m\u001b[0mto_datetime\u001b[0m\u001b[1;33m(\u001b[0m\u001b[0maccount_condition\u001b[0m\u001b[1;33m[\u001b[0m\u001b[1;34m'date'\u001b[0m\u001b[1;33m]\u001b[0m\u001b[1;33m,\u001b[0m \u001b[0mformat\u001b[0m\u001b[1;33m=\u001b[0m\u001b[1;34m'%Y-%m-%d'\u001b[0m\u001b[1;33m)\u001b[0m\u001b[1;33m\u001b[0m\u001b[1;33m\u001b[0m\u001b[0m\n\u001b[0m\u001b[0;32m      8\u001b[0m   \u001b[1;32mfor\u001b[0m \u001b[0mclmn\u001b[0m \u001b[1;32min\u001b[0m \u001b[1;33m[\u001b[0m\u001b[1;34m'start_sum'\u001b[0m\u001b[1;33m,\u001b[0m \u001b[1;34m'warranty_provision'\u001b[0m\u001b[1;33m,\u001b[0m \u001b[1;34m'free_funds'\u001b[0m\u001b[1;33m]\u001b[0m\u001b[1;33m:\u001b[0m\u001b[1;33m\u001b[0m\u001b[1;33m\u001b[0m\u001b[0m\n\u001b[0;32m      9\u001b[0m     \u001b[0maccount_condition\u001b[0m\u001b[1;33m[\u001b[0m\u001b[0mclmn\u001b[0m\u001b[1;33m]\u001b[0m\u001b[1;33m.\u001b[0m\u001b[0mloc\u001b[0m\u001b[1;33m[\u001b[0m\u001b[0maccount_condition\u001b[0m\u001b[1;33m[\u001b[0m\u001b[0mclmn\u001b[0m\u001b[1;33m]\u001b[0m \u001b[1;33m==\u001b[0m \u001b[1;34m'-'\u001b[0m\u001b[1;33m]\u001b[0m \u001b[1;33m=\u001b[0m \u001b[0mnp\u001b[0m\u001b[1;33m.\u001b[0m\u001b[0mnan\u001b[0m\u001b[1;33m\u001b[0m\u001b[1;33m\u001b[0m\u001b[0m\n",
      "\u001b[1;32m~\\anaconda3\\lib\\site-packages\\pandas\\core\\frame.py\u001b[0m in \u001b[0;36m__getitem__\u001b[1;34m(self, key)\u001b[0m\n\u001b[0;32m   3456\u001b[0m             \u001b[1;32mif\u001b[0m \u001b[0mself\u001b[0m\u001b[1;33m.\u001b[0m\u001b[0mcolumns\u001b[0m\u001b[1;33m.\u001b[0m\u001b[0mnlevels\u001b[0m \u001b[1;33m>\u001b[0m \u001b[1;36m1\u001b[0m\u001b[1;33m:\u001b[0m\u001b[1;33m\u001b[0m\u001b[1;33m\u001b[0m\u001b[0m\n\u001b[0;32m   3457\u001b[0m                 \u001b[1;32mreturn\u001b[0m \u001b[0mself\u001b[0m\u001b[1;33m.\u001b[0m\u001b[0m_getitem_multilevel\u001b[0m\u001b[1;33m(\u001b[0m\u001b[0mkey\u001b[0m\u001b[1;33m)\u001b[0m\u001b[1;33m\u001b[0m\u001b[1;33m\u001b[0m\u001b[0m\n\u001b[1;32m-> 3458\u001b[1;33m             \u001b[0mindexer\u001b[0m \u001b[1;33m=\u001b[0m \u001b[0mself\u001b[0m\u001b[1;33m.\u001b[0m\u001b[0mcolumns\u001b[0m\u001b[1;33m.\u001b[0m\u001b[0mget_loc\u001b[0m\u001b[1;33m(\u001b[0m\u001b[0mkey\u001b[0m\u001b[1;33m)\u001b[0m\u001b[1;33m\u001b[0m\u001b[1;33m\u001b[0m\u001b[0m\n\u001b[0m\u001b[0;32m   3459\u001b[0m             \u001b[1;32mif\u001b[0m \u001b[0mis_integer\u001b[0m\u001b[1;33m(\u001b[0m\u001b[0mindexer\u001b[0m\u001b[1;33m)\u001b[0m\u001b[1;33m:\u001b[0m\u001b[1;33m\u001b[0m\u001b[1;33m\u001b[0m\u001b[0m\n\u001b[0;32m   3460\u001b[0m                 \u001b[0mindexer\u001b[0m \u001b[1;33m=\u001b[0m \u001b[1;33m[\u001b[0m\u001b[0mindexer\u001b[0m\u001b[1;33m]\u001b[0m\u001b[1;33m\u001b[0m\u001b[1;33m\u001b[0m\u001b[0m\n",
      "\u001b[1;32m~\\anaconda3\\lib\\site-packages\\pandas\\core\\indexes\\base.py\u001b[0m in \u001b[0;36mget_loc\u001b[1;34m(self, key, method, tolerance)\u001b[0m\n\u001b[0;32m   3361\u001b[0m                 \u001b[1;32mreturn\u001b[0m \u001b[0mself\u001b[0m\u001b[1;33m.\u001b[0m\u001b[0m_engine\u001b[0m\u001b[1;33m.\u001b[0m\u001b[0mget_loc\u001b[0m\u001b[1;33m(\u001b[0m\u001b[0mcasted_key\u001b[0m\u001b[1;33m)\u001b[0m\u001b[1;33m\u001b[0m\u001b[1;33m\u001b[0m\u001b[0m\n\u001b[0;32m   3362\u001b[0m             \u001b[1;32mexcept\u001b[0m \u001b[0mKeyError\u001b[0m \u001b[1;32mas\u001b[0m \u001b[0merr\u001b[0m\u001b[1;33m:\u001b[0m\u001b[1;33m\u001b[0m\u001b[1;33m\u001b[0m\u001b[0m\n\u001b[1;32m-> 3363\u001b[1;33m                 \u001b[1;32mraise\u001b[0m \u001b[0mKeyError\u001b[0m\u001b[1;33m(\u001b[0m\u001b[0mkey\u001b[0m\u001b[1;33m)\u001b[0m \u001b[1;32mfrom\u001b[0m \u001b[0merr\u001b[0m\u001b[1;33m\u001b[0m\u001b[1;33m\u001b[0m\u001b[0m\n\u001b[0m\u001b[0;32m   3364\u001b[0m \u001b[1;33m\u001b[0m\u001b[0m\n\u001b[0;32m   3365\u001b[0m         \u001b[1;32mif\u001b[0m \u001b[0mis_scalar\u001b[0m\u001b[1;33m(\u001b[0m\u001b[0mkey\u001b[0m\u001b[1;33m)\u001b[0m \u001b[1;32mand\u001b[0m \u001b[0misna\u001b[0m\u001b[1;33m(\u001b[0m\u001b[0mkey\u001b[0m\u001b[1;33m)\u001b[0m \u001b[1;32mand\u001b[0m \u001b[1;32mnot\u001b[0m \u001b[0mself\u001b[0m\u001b[1;33m.\u001b[0m\u001b[0mhasnans\u001b[0m\u001b[1;33m:\u001b[0m\u001b[1;33m\u001b[0m\u001b[1;33m\u001b[0m\u001b[0m\n",
      "\u001b[1;31mKeyError\u001b[0m: 'date'"
     ]
    }
   ],
   "source": [
    "for mode in ['train', 'test']:\n",
    "    main = pd.read_csv(f'{DIRECTORY}data/{mode}/{mode}.csv', sep = ',')\n",
    "    ids = main['id']\n",
    "    for id in ids:\n",
    "        formatAccountCondition(id, mode)\n",
    "        formatReferencePoint(id, mode)\n",
    "        for i in range(1, 4):\n",
    "            addNamesToDeals(id, i, mode)"
   ]
  },
  {
   "cell_type": "code",
   "execution_count": null,
   "metadata": {
    "id": "GGgiYEpoFy92"
   },
   "outputs": [],
   "source": [
    "# reading data\n",
    "train = pd.read_csv(f'{DIRECTORY}data/train/train.csv', sep = ',')\n",
    "final_test = pd.read_csv(f'{DIRECTORY}data/test/test.csv', sep = ',')"
   ]
  },
  {
   "cell_type": "markdown",
   "metadata": {},
   "source": [
    "# Обучение моделей"
   ]
  },
  {
   "cell_type": "code",
   "execution_count": null,
   "metadata": {
    "colab": {
     "base_uri": "https://localhost:8080/"
    },
    "id": "sb9KPnSDGkxa",
    "outputId": "b02335e3-fd02-4a53-a18e-f5288518c441"
   },
   "outputs": [],
   "source": [
    "# splitting train on train and test sets\n",
    "X = train.drop([\"class\", \"nickname\", \"id\"], 1)\n",
    "y = train[\"class\"]\n",
    "X_train, X_test, y_train, y_test = train_test_split(X, y, random_state=42, train_size = 0.75)"
   ]
  },
  {
   "cell_type": "markdown",
   "metadata": {},
   "source": [
    "СatBoostСlassifier "
   ]
  },
  {
   "cell_type": "code",
   "execution_count": null,
   "metadata": {
    "colab": {
     "base_uri": "https://localhost:8080/"
    },
    "id": "AarBIOGy7Fu2",
    "outputId": "688f6f6d-05bc-4787-9213-100b9d1ecea8"
   },
   "outputs": [],
   "source": [
    "%%time\n",
    "\n",
    "cat_columns = X_train.select_dtypes(include=['object']).columns\n",
    "model = CatBoostClassifier(cat_features = [cat_columns[0]], verbose=0, loss_function='MultiClass')\n",
    "\n",
    "param_grid = {'iterations': [100, 500],\n",
    "              'learning_rate': [0.01, 0.05, 0.1],\n",
    "              'depth': [4, 5, 7], \n",
    "              \"l2_leaf_reg\": [0.5, 1, 4, 8]}\n",
    "\n",
    "grid_search = RandomizedSearchCV(estimator=model, \n",
    "                                 param_distributions=param_grid, \n",
    "                                 cv=5, \n",
    "                                 scoring='accuracy', \n",
    "                                 error_score='raise', \n",
    "                                 n_iter=15)\n",
    "\n",
    "grid_search.fit(X_train, y_train, cat_features = [cat_columns[0]])\n",
    "\n",
    "print(\"Best Parameters: \", grid_search.best_params_)\n",
    "print(\"Best CV Score: \", grid_search.best_score_)"
   ]
  },
  {
   "cell_type": "code",
   "execution_count": null,
   "metadata": {
    "colab": {
     "base_uri": "https://localhost:8080/"
    },
    "id": "I4sARs7FuKhG",
    "outputId": "3c560003-0c4e-43e8-83e2-8db5282b3262"
   },
   "outputs": [],
   "source": [
    "results = grid_search.cv_results_\n",
    "results['mean_test_score']"
   ]
  },
  {
   "cell_type": "markdown",
   "metadata": {},
   "source": [
    "Метрики"
   ]
  },
  {
   "cell_type": "code",
   "execution_count": null,
   "metadata": {},
   "outputs": [],
   "source": [
    "def metrics(y_true, y_pred):\n",
    "    rmse = mean_squared_error(y_true, y_pred, squared=False)\n",
    "    f1 = f1_score(y_true, y_pred, average = 'micro')\n",
    "    return f\"\\nrmse: {rmse}\\nf1score: {f1} \\n\""
   ]
  },
  {
   "cell_type": "code",
   "execution_count": null,
   "metadata": {},
   "outputs": [],
   "source": [
    "cbc = grid_search.best_estimator_\n",
    "y_pred_ts = cbc.predict(X_test)\n",
    "y_pred_tr = cbc.predict(X_train)\n",
    "\n",
    "print(f\"TRAIN: {metrics(y_train, y_pred_tr)}\\nTEST: {metrics(y_test, y_pred_ts)}\")"
   ]
  },
  {
   "cell_type": "markdown",
   "metadata": {
    "id": "JtxMZXI1JUuw"
   },
   "source": [
    "# Мусорка"
   ]
  },
  {
   "cell_type": "code",
   "execution_count": null,
   "metadata": {
    "colab": {
     "base_uri": "https://localhost:8080/",
     "height": 423
    },
    "id": "NjVOSOkExL-J",
    "outputId": "f1d8e683-4e34-4496-8155-a301e73e3500"
   },
   "outputs": [],
   "source": [
    "test_additional_info_id_account_condition_list = []\n",
    "test_additional_info_id_reference_point_list = []\n",
    "test_additional_info_id_stats_table_list = []\n",
    "test_deals_list = []\n",
    "\n",
    "account_condition_list = []\n",
    "reference_point_list = []\n",
    "stats_table_list = []\n",
    "test_deals_list = []\n",
    "list_cnt_tables = []\n",
    "\n",
    "main = pd.read_csv(f'/content/data/test/test.csv', sep = ',')\n",
    "ids = main['id']\n",
    "\n",
    "cnt_tables = 0\n",
    "for id in ids:\n",
    "  test_additional_info_id_account_condition_list.append(pd.read_csv(f'/content/data/test/test_additional_info/id_{id}/account_condition_{id}.csv'))\n",
    "  test_additional_info_id_reference_point_list.append(pd.read_csv(f'/content/data/test/test_additional_info/id_{id}/reference_point_{id}.csv'))\n",
    "  test_additional_info_id_stats_table_list.append(pd.read_csv(f'/content/data/test/test_additional_info/id_{id}/stats_table_{id}.csv', sep=';'))\n",
    "  if not (pd.read_csv(f'/content/data/test/test_additional_info/id_{id}/account_condition_{id}.csv').empty):\n",
    "    account_condition_list.append(1)\n",
    "    cnt_tables += 1\n",
    "  if not (pd.read_csv(f'/content/data/test/test_additional_info/id_{id}/reference_point_{id}.csv').empty):\n",
    "    reference_point_list.append(1)\n",
    "    cnt_tables += 1\n",
    "  if not (pd.read_csv(f'/content/data/test/test_additional_info/id_{id}/stats_table_{id}.csv').empty):\n",
    "    test_deals_list.append(1)\n",
    "    cnt_tables += 1\n",
    "  list_cnt_tables.append(cnt_tables)\n",
    "  cnt_tables = 0\n",
    "\n",
    "test_additional_info_id_account_condition = pd.concat(test_additional_info_id_account_condition_list, axis=0, join='outer', ignore_index=False, keys=ids)\n",
    "test_additional_info_id_reference_point = pd.concat(test_additional_info_id_reference_point_list, axis=0, join='outer', ignore_index=False, keys=ids)\n",
    "test_additional_info_id_stats_table = pd.concat(test_additional_info_id_stats_table_list, axis=0, join='outer', ignore_index=False, keys=ids)\n",
    "\n",
    "# for id in ids:\n",
    "#   test_deals_list.append(pd.read_csv(f'/content/data/test/test_deals/1_{id}.csv'))\n",
    "# test_deals = pd.concat(test_deals_list, axis=0, join='outer', ignore_index=False, keys=ids)\n",
    "\n",
    "distr_tables = pd.DataFrame({'id' : ids, \n",
    "                             'count_tables' : list_cnt_tables, \n",
    "                             })\n",
    "\n",
    "distr_tables"
   ]
  },
  {
   "cell_type": "code",
   "execution_count": null,
   "metadata": {
    "colab": {
     "base_uri": "https://localhost:8080/",
     "height": 237
    },
    "id": "oR6N8_CSGXm8",
    "outputId": "ea36dbef-c7bc-4fc4-ba6c-22f446a1bfa5"
   },
   "outputs": [],
   "source": [
    "test_additional_info_id_account_condition.head()"
   ]
  },
  {
   "cell_type": "code",
   "execution_count": null,
   "metadata": {
    "colab": {
     "base_uri": "https://localhost:8080/"
    },
    "id": "cZaqGuqtOjSx",
    "outputId": "2c8bf5a5-f422-41d3-e89f-862d0c6e4988"
   },
   "outputs": [],
   "source": [
    "# много пропусков\n",
    "test_additional_info_id_account_condition.info()"
   ]
  },
  {
   "cell_type": "code",
   "execution_count": null,
   "metadata": {
    "colab": {
     "base_uri": "https://localhost:8080/"
    },
    "id": "vwikTKp2VdAL",
    "outputId": "f984f335-0505-49e3-b287-3809a99b942c"
   },
   "outputs": [],
   "source": [
    "# много пропусков\n",
    "test_additional_info_id_reference_point.info()"
   ]
  },
  {
   "cell_type": "code",
   "execution_count": null,
   "metadata": {
    "colab": {
     "base_uri": "https://localhost:8080/"
    },
    "id": "dvMe2PA6Vmyo",
    "outputId": "68aca910-0804-4cef-ddbd-e88df43dcda2"
   },
   "outputs": [],
   "source": [
    "# много пропусков\n",
    "test_additional_info_id_stats_table.info()"
   ]
  },
  {
   "cell_type": "code",
   "execution_count": null,
   "metadata": {
    "colab": {
     "base_uri": "https://localhost:8080/",
     "height": 1000
    },
    "id": "JunDoWo3Z2-4",
    "outputId": "cf02e4df-6f2c-4030-e88c-a1816e02d773"
   },
   "outputs": [],
   "source": [
    "test_additional_info_id_account_condition.sum(level='id')"
   ]
  }
 ],
 "metadata": {
  "colab": {
   "provenance": []
  },
  "kernelspec": {
   "display_name": "Python 3 (ipykernel)",
   "language": "python",
   "name": "python3"
  },
  "language_info": {
   "codemirror_mode": {
    "name": "ipython",
    "version": 3
   },
   "file_extension": ".py",
   "mimetype": "text/x-python",
   "name": "python",
   "nbconvert_exporter": "python",
   "pygments_lexer": "ipython3",
   "version": "3.9.7"
  }
 },
 "nbformat": 4,
 "nbformat_minor": 1
}
